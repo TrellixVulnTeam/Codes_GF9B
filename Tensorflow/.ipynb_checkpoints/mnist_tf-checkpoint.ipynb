{
 "cells": [
  {
   "cell_type": "code",
   "execution_count": 102,
   "metadata": {
    "collapsed": true
   },
   "outputs": [],
   "source": [
    "from __future__ import absolute_import\n",
    "from __future__ import division\n",
    "from __future__ import print_function\n",
    "\n",
    "import tensorflow as tf\n",
    "import matplotlib.pyplot as plt\n",
    "import cv2\n",
    "import numpy as np\n",
    "import os\n",
    "from sklearn.utils import shuffle"
   ]
  },
  {
   "cell_type": "code",
   "execution_count": 103,
   "metadata": {
    "collapsed": true
   },
   "outputs": [],
   "source": [
    "def load_data(path):\n",
    "    \n",
    "    sub_paths = os.listdir(path)\n",
    "\n",
    "    img_data = []\n",
    "    label_data = []\n",
    "    \n",
    "    c = 0\n",
    "    \n",
    "    for sub_path in sub_paths:\n",
    "        \n",
    "        img_paths = os.listdir(path + sub_path)\n",
    "        \n",
    "        for img_path in img_paths:\n",
    "            \n",
    "            img = cv2.imread(path + sub_path + '\\\\' + img_path , 0)\n",
    "\n",
    "            label = int(sub_path)\n",
    "            \n",
    "            img_data.append(img)\n",
    "            label_data.append(label)\n",
    "            \n",
    "            c = c + 1\n",
    "            \n",
    "        print (sub_path)\n",
    "        \n",
    "    img_data = np.expand_dims(np.array(img_data),-1) #converting  to a numpy array\n",
    "    #label_data = tf.one_hot(label_data, 10).eval(session = sess) # one_hot representation\n",
    "    label_data = to_one_hot(label_data, 10)\n",
    "    \n",
    "    img_data, label_data = shuffle(img_data, label_data, random_state=0)\n",
    "    return img_data, label_data\n"
   ]
  },
  {
   "cell_type": "code",
   "execution_count": 104,
   "metadata": {
    "collapsed": true
   },
   "outputs": [],
   "source": [
    "def to_one_hot(label_data, num_class):\n",
    "    num_sample = np.shape(label_data)[0]\n",
    "    temp = np.zeros([num_sample, num_class])\n",
    "    temp[np.arange(num_sample),label_data] = 1\n",
    "    return temp"
   ]
  },
  {
   "cell_type": "code",
   "execution_count": 105,
   "metadata": {
    "collapsed": true
   },
   "outputs": [],
   "source": [
    "def Network(Input): #input : [Batch_size, 32, 32, 1]\n",
    "    with tf.name_scope(\"Network\"):\n",
    "        conv1 = tf.layers.conv2d(Input, filters = 64, kernel_size = 3, strides = 1, activation = tf.nn.relu, name = 'conv1')\n",
    "        conv2 = tf.layers.conv2d(conv1, filters = 64, kernel_size = 3, strides = 1, activation = tf.nn.relu, name = 'conv2')\n",
    "        pool1 = tf.layers.max_pooling2d(conv2, pool_size = 2, strides = 2, name = 'pool1')\n",
    "\n",
    "        conv3 = tf.layers.conv2d(pool1, filters = 256, kernel_size = 3, strides = 1, activation = tf.nn.relu, name = 'conv3')\n",
    "        conv4 = tf.layers.conv2d(conv3, filters = 256, kernel_size = 3, strides = 1, activation = tf.nn.relu, name = 'conv4')\n",
    "        pool2 = tf.layers.max_pooling2d(conv4, pool_size = 2, strides = 2, name = 'pool2')\n",
    "\n",
    "        conv5 = tf.layers.conv2d(pool2, filters = 512, kernel_size = 3, strides = 1, activation = tf.nn.relu, name = 'conv5')\n",
    "\n",
    "        flat = tf.contrib.layers.flatten(conv5)\n",
    "        fc1 = tf.layers.dense(flat, units = 1024, activation = tf.nn.relu, name = 'fc1')\n",
    "        fc2 = tf.layers.dense(fc1, units = 10, activation = None, name = 'fc2')\n",
    "    \n",
    "    return fc2\n",
    "    \n",
    "    "
   ]
  },
  {
   "cell_type": "code",
   "execution_count": 106,
   "metadata": {
    "collapsed": true
   },
   "outputs": [],
   "source": [
    "def loss_function(logit, Label):\n",
    "    loss = tf.reduce_mean(tf.nn.sigmoid_cross_entropy_with_logits(logits = logit, labels = Label))\n",
    "    return loss"
   ]
  },
  {
   "cell_type": "code",
   "execution_count": 107,
   "metadata": {
    "collapsed": true
   },
   "outputs": [],
   "source": [
    "def Accuracy_Evaluate(prediction, Label):\n",
    "    # Evaluate model\n",
    "    correct_pred = tf.equal(tf.argmax(prediction, 1), tf.argmax(Label, 1))\n",
    "    accuracy = tf.reduce_mean(tf.cast(correct_pred, tf.float32))\n",
    "    return correct_pred, accuracy"
   ]
  },
  {
   "cell_type": "code",
   "execution_count": 108,
   "metadata": {
    "collapsed": true
   },
   "outputs": [],
   "source": [
    "def main(train_data, train_label, no_of_epochs = 150000, batchsize = 32):\n",
    "    \n",
    "    \n",
    "    Input = tf.placeholder(dtype = tf.float32, shape = [None, 28, 28, 1])\n",
    "    Label = tf.placeholder(dtype = tf.float32, shape = [None, 10])\n",
    "    \n",
    "    logit = Network(Input)\n",
    "    \n",
    "    prediction = tf.nn.softmax(logit)\n",
    "    \n",
    "    loss = loss_function(logit, Label)\n",
    "    \n",
    "    correct_pred, accuracy = Accuracy_Evaluate(prediction, Label)\n",
    "    \n",
    "    \n",
    "    optimiz = tf.train.GradientDescentOptimizer(learning_rate = 0.001).minimize(loss)\n",
    "\n",
    "    init = tf.global_variables_initializer()\n",
    "    sess.run(init)\n",
    " \n",
    "    \n",
    "    tf.summary.scalar('Loss_Value',loss)\n",
    "    tf.summary.scalar('Accuracy',accuracy)\n",
    "    \n",
    "    print('Stteing up summary op...')\n",
    "    summary_op = tf.summary.merge_all()\n",
    "    \n",
    "    print('Setting Up Saver...')\n",
    "    summary_writer = tf.summary.FileWriter('./log_dir/', sess.graph)\n",
    "    \n",
    "    itr = 0\n",
    "    for epoch in range(no_of_epochs):\n",
    "        \n",
    "        index = np.random.permutation(np.shape(train_data)[0])\n",
    "        train_data = train_data[index, :, :, :]\n",
    "        train_label = train_label[index, :]\n",
    "        \n",
    "        for idx in range(train_data.shape[0]//batchsize): \n",
    "            \n",
    "            batchx = train_data[idx*batchsize : (idx + 1)*batchsize , :, :, :]\n",
    "            batchy = train_label[idx*batchsize : (idx + 1)*batchsize, :]\n",
    "            \n",
    "            feed_dict = {Input : batchx , Label : batchy}\n",
    "            \n",
    "            _, train_loss, train_accuracy, summary_str = sess.run([optimiz, loss, accuracy, summary_op] , feed_dict )\n",
    "            summary_writer.add_summary(summary_str, itr)\n",
    "            itr = itr + 1\n",
    "            \n",
    "            if idx%10 == 0:\n",
    "                \n",
    "                print ('epoch : '+str(epoch)+' step : '+str(idx) + ' train_loss : '+str(train_loss) +\n",
    "                        ' train_accuracy : '+str(train_accuracy) \n",
    "            \n",
    "                      )"
   ]
  },
  {
   "cell_type": "code",
   "execution_count": 109,
   "metadata": {
    "collapsed": true
   },
   "outputs": [],
   "source": [
    "from tensorflow.python.framework import ops\n",
    "ops.reset_default_graph()\n",
    "global sess\n",
    "\n",
    "config = tf.ConfigProto()\n",
    "sess = tf.Session(config = config)\n",
    "graph = tf.get_default_graph()"
   ]
  },
  {
   "cell_type": "code",
   "execution_count": 110,
   "metadata": {},
   "outputs": [
    {
     "name": "stdout",
     "output_type": "stream",
     "text": [
      "0\n",
      "1\n",
      "2\n",
      "3\n",
      "4\n",
      "5\n",
      "6\n",
      "7\n",
      "8\n",
      "9\n"
     ]
    }
   ],
   "source": [
    "train_data, train_label = load_data('C:\\\\WinPython-64bit-3.5.4.0Qt5\\\\notebooks\\\\trainingSet.tar\\\\trainingSet\\\\')"
   ]
  },
  {
   "cell_type": "code",
   "execution_count": 111,
   "metadata": {},
   "outputs": [
    {
     "data": {
      "text/plain": [
       "(42000, 28, 28, 1)"
      ]
     },
     "execution_count": 111,
     "metadata": {},
     "output_type": "execute_result"
    }
   ],
   "source": [
    "train_data.shape"
   ]
  },
  {
   "cell_type": "code",
   "execution_count": 112,
   "metadata": {},
   "outputs": [
    {
     "data": {
      "image/png": "[encoded data removed]",
      "text/plain": [
       "<matplotlib.figure.Figure at 0x1b31498a4a8>"
      ]
     },
     "metadata": {},
     "output_type": "display_data"
    },
    {
     "name": "stdout",
     "output_type": "stream",
     "text": [
      "9\n"
     ]
    }
   ],
   "source": [
    "plt.imshow(train_data[110,:,:,0])\n",
    "plt.show()\n",
    "print(np.argmax(train_label[110]))"
   ]
  },
  {
   "cell_type": "code",
   "execution_count": null,
   "metadata": {},
   "outputs": [
    {
     "name": "stdout",
     "output_type": "stream",
     "text": [
      "Stteing up summary op...\n",
      "Setting Up Saver...\n",
      "epoch : 0 step : 0 train_loss : 2.43485 train_accuracy : 0.15625\n",
      "epoch : 0 step : 10 train_loss : 0.331961 train_accuracy : 0.3125\n",
      "epoch : 0 step : 20 train_loss : 0.275277 train_accuracy : 0.25\n",
      "epoch : 0 step : 30 train_loss : 0.220457 train_accuracy : 0.5625\n",
      "epoch : 0 step : 40 train_loss : 0.20844 train_accuracy : 0.71875\n",
      "epoch : 0 step : 50 train_loss : 0.153882 train_accuracy : 0.8125\n",
      "epoch : 0 step : 60 train_loss : 0.176033 train_accuracy : 0.65625\n",
      "epoch : 0 step : 70 train_loss : 0.16939 train_accuracy : 0.65625\n",
      "epoch : 0 step : 80 train_loss : 0.153948 train_accuracy : 0.75\n",
      "epoch : 0 step : 90 train_loss : 0.120888 train_accuracy : 0.78125\n",
      "epoch : 0 step : 100 train_loss : 0.105372 train_accuracy : 0.84375\n",
      "epoch : 0 step : 110 train_loss : 0.108493 train_accuracy : 0.875\n",
      "epoch : 0 step : 120 train_loss : 0.142021 train_accuracy : 0.71875\n",
      "epoch : 0 step : 130 train_loss : 0.098624 train_accuracy : 0.8125\n",
      "epoch : 0 step : 140 train_loss : 0.142045 train_accuracy : 0.8125\n",
      "epoch : 0 step : 150 train_loss : 0.10732 train_accuracy : 0.8125\n",
      "epoch : 0 step : 160 train_loss : 0.140445 train_accuracy : 0.78125\n",
      "epoch : 0 step : 170 train_loss : 0.0938756 train_accuracy : 0.90625\n",
      "epoch : 0 step : 180 train_loss : 0.0697226 train_accuracy : 0.90625\n",
      "epoch : 0 step : 190 train_loss : 0.0599463 train_accuracy : 1.0\n",
      "epoch : 0 step : 200 train_loss : 0.105865 train_accuracy : 0.6875\n",
      "epoch : 0 step : 210 train_loss : 0.0879404 train_accuracy : 0.8125\n",
      "epoch : 0 step : 220 train_loss : 0.0763751 train_accuracy : 0.90625\n",
      "epoch : 0 step : 230 train_loss : 0.10462 train_accuracy : 0.8125\n",
      "epoch : 0 step : 240 train_loss : 0.114651 train_accuracy : 0.90625\n",
      "epoch : 0 step : 250 train_loss : 0.0734449 train_accuracy : 0.9375\n",
      "epoch : 0 step : 260 train_loss : 0.0720439 train_accuracy : 0.9375\n",
      "epoch : 0 step : 270 train_loss : 0.0568161 train_accuracy : 0.96875\n",
      "epoch : 0 step : 280 train_loss : 0.0753841 train_accuracy : 0.9375\n",
      "epoch : 0 step : 290 train_loss : 0.0610816 train_accuracy : 0.9375\n"
     ]
    }
   ],
   "source": [
    "main(train_data, train_label)"
   ]
  },
  {
   "cell_type": "code",
   "execution_count": null,
   "metadata": {
    "collapsed": true
   },
   "outputs": [],
   "source": [
    "# Resource\n",
    "# https://stackoverflow.com/questions/29831489/numpy-1-hot-array"
   ]
  }
 ],
 "metadata": {
  "kernelspec": {
   "display_name": "Python 3",
   "language": "python",
   "name": "python3"
  },
  "language_info": {
   "codemirror_mode": {
    "name": "ipython",
    "version": 3
   },
   "file_extension": ".py",
   "mimetype": "text/x-python",
   "name": "python",
   "nbconvert_exporter": "python",
   "pygments_lexer": "ipython3",
   "version": "3.6.3"
  }
 },
 "nbformat": 4,
 "nbformat_minor": 2
}
