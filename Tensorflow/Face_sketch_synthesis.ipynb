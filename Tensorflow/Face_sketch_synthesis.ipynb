{
 "cells": [
  {
   "cell_type": "code",
   "execution_count": 1,
   "metadata": {},
   "outputs": [],
   "source": [
    "import tensorflow as tf\n",
    "import matplotlib.pyplot as plt\n",
    "import cv2\n",
    "import numpy as np\n",
    "import os\n",
    "from sklearn.utils import shuffle"
   ]
  },
  {
   "cell_type": "code",
   "execution_count": 2,
   "metadata": {},
   "outputs": [],
   "source": [
    "path=[r'C:\\Users\\shuvo\\Downloads\\Compressed\\CUHK_training_photo\\photo',\n",
    "       r'C:\\Users\\shuvo\\Downloads\\Compressed\\CUHK_training_sketch\\sketch']"
   ]
  },
  {
   "cell_type": "code",
   "execution_count": 3,
   "metadata": {},
   "outputs": [],
   "source": [
    "global params\n",
    "params = {'path' : path,\n",
    "          'batch_size' : 4,\n",
    "          'input_size': (250,200),   \n",
    "          'lrn_rate': 0.0001, \n",
    "          'epochs': 22}"
   ]
  },
  {
   "cell_type": "code",
   "execution_count": 4,
   "metadata": {},
   "outputs": [],
   "source": [
    "def get_file_paths(path):\n",
    "    img_data=os.listdir(path)\n",
    "    paths = [os.path.join(path, img) for img in img_data]\n",
    "    return paths"
   ]
  },
  {
   "cell_type": "code",
   "execution_count": 5,
   "metadata": {},
   "outputs": [],
   "source": [
    "def load_data(path):\n",
    "#    print(path)\n",
    "    img = cv2.imread(path, 0)\n",
    "#    if img is None: print (path);pass\n",
    "#    img = cv2.cvtColor(img,cv2.COLOR_BGR2YCR_CB)\n",
    "   \n",
    "    img = cv2.resize(img, \n",
    "                     (params['input_size'][1],params['input_size'][0]) , # <-- input_size tuple of format (h,w)\n",
    "                     cv2.INTER_AREA)\n",
    "    return np.expand_dims(img, -1)"
   ]
  },
  {
   "cell_type": "code",
   "execution_count": 6,
   "metadata": {},
   "outputs": [],
   "source": [
    "def load_sketch(path):\n",
    "    img = cv2.imread(path,0)\n",
    "    #if img is None : return (False, None)\n",
    "    img = cv2.resize(img, \n",
    "                     (200,250), \n",
    "                     cv2.INTER_AREA)\n",
    "    return np.expand_dims(img, -1)"
   ]
  },
  {
   "cell_type": "code",
   "execution_count": 7,
   "metadata": {},
   "outputs": [],
   "source": [
    "def Network(Input): #input : [Batch_size, 250, 200, 1]\n",
    "    with tf.name_scope(\"Network\"):\n",
    "        conv1 = tf.layers.conv2d(Input, filters = 32, kernel_size = 3, strides = 1, padding='SAME', activation = tf.nn.relu, name = 'conv1')\n",
    "        pool1 = tf.layers.max_pooling2d(conv1, pool_size = 2, strides = 1, padding='SAME', name = 'POOL1')\n",
    "        print(conv1)\n",
    "        print(pool1)\n",
    "        \n",
    "        #multilayer perception convulation layer\n",
    "        conv2 = tf.layers.conv2d(pool1, filters = 16, kernel_size = 1, strides = 1, activation = tf.nn.relu, padding='SAME', name = 'conv2')\n",
    "        conv3 = tf.layers.conv2d(conv2, filters = 16, kernel_size = 1, strides = 1, activation = tf.nn.relu, padding='SAME', name = 'conv3')\n",
    "        conv4 = tf.layers.conv2d(conv3, filters = 32, kernel_size = 1, strides = 1, activation = tf.nn.relu, padding='SAME', name = 'conv4')\n",
    "        \n",
    "        #last convulation layer\n",
    "        gensketch=tf.layers.conv2d(conv4, filters = 3, kernel_size = 3, strides = 1, activation = tf.nn.relu, padding='SAME', name = 'gensketch')\n",
    "        print(gensketch)\n",
    "    return gensketch\n",
    "    "
   ]
  },
  {
   "cell_type": "code",
   "execution_count": 8,
   "metadata": {},
   "outputs": [],
   "source": [
    "def loss_function(gensketch, sketch):\n",
    "    with tf.variable_scope('L2_loss') as scope:\n",
    "        loss = tf.reduce_mean(tf.square(sketch-gensketch))\n",
    "    return loss"
   ]
  },
  {
   "cell_type": "code",
   "execution_count": 9,
   "metadata": {},
   "outputs": [
    {
     "data": {
      "text/plain": [
       "22"
      ]
     },
     "execution_count": 9,
     "metadata": {},
     "output_type": "execute_result"
    }
   ],
   "source": [
    "a = 88\n",
    "b = 4\n",
    "a//b"
   ]
  },
  {
   "cell_type": "code",
   "execution_count": 10,
   "metadata": {},
   "outputs": [],
   "source": [
    "def FSSN():\n",
    "    \n",
    "    batchsize = params['batch_size']\n",
    "    \n",
    "    x = tf.placeholder(dtype = tf.float32, shape = [batchsize, 250, 200, 1])\n",
    "    z = tf.placeholder(dtype = tf.float32, shape = [batchsize, 250, 200, 1])\n",
    "    y = Network(x)\n",
    "    loss = loss_function(y, z)\n",
    "    optimiz = tf.train.AdadeltaOptimizer(params['lrn_rate']).minimize(loss)\n",
    "    sess=tf.Session()\n",
    "    init = tf.global_variables_initializer()\n",
    "    sess.run(init)\n",
    "    \n",
    "    tf.summary.scalar('Loss_Value',loss)\n",
    "    real = tf.summary.image(\"Input\", x, max_outputs=2)\n",
    "    generated = tf.summary.image(\"Output\", y, max_outputs=2)\n",
    "    print('Setting up summary op...')\n",
    "    summary_op = tf.summary.merge_all()\n",
    "   \n",
    "    print(\"Setting up Saver...\") \n",
    "    saver = tf.train.Saver() \n",
    "    train_summary_writer = tf.summary.FileWriter('./log_dirfssn/train', sess.graph)\n",
    "    test_summary_writer = tf.summary.FileWriter('./log_dirfssn/test', sess.graph)\n",
    "    \n",
    "    photo_paths =get_file_paths(path[0])\n",
    "    sketch_paths = get_file_paths(path[1])\n",
    "    \n",
    "    dataset_size = len(photo_paths)\n",
    "    n_batches = dataset_size//batchsize\n",
    "    print(\"Dataset Size %d \\nNo of Batches %d \" %(dataset_size,n_batches))\n",
    "    photo_batch_data, sketch_batch_data = [], []\n",
    "    \n",
    "    counter = 1\n",
    "    for epoch in range(params['epochs']):\n",
    "\n",
    "        for idx in range(n_batches): \n",
    "            \n",
    "            photo_batch_paths = photo_paths[idx * batchsize: (idx+1) * batchsize]\n",
    "            photo_batch_data = np.array([load_data(path) for path in photo_batch_paths])\n",
    "#             print(\"Train Batch shape \", str(batch_data.shape)) \n",
    "            sketch_batch_paths = sketch_paths[idx * batchsize: (idx+1) * batchsize]\n",
    "            sketch_batch_data = np.array([load_sketch(path) for path in sketch_batch_paths])\n",
    "  \n",
    "            _, train_loss, train_summary_str = sess.run([optimiz, loss, summary_op], \n",
    "                                                  feed_dict= {x: photo_batch_data , z: sketch_batch_data})\n",
    "            train_summary_writer.add_summary(train_summary_str, counter)\n",
    "            \n",
    "            if idx % 10 == 0:\n",
    "                print(\"Epoch %d \\t Batch %d \\t Loss %.4f\"%(epoch, idx+1, train_loss))\n",
    "            \n",
    "            counter += 1"
   ]
  },
  {
   "cell_type": "code",
   "execution_count": 11,
   "metadata": {
    "scrolled": true
   },
   "outputs": [
    {
     "name": "stdout",
     "output_type": "stream",
     "text": [
      "Tensor(\"Network/conv1/Relu:0\", shape=(4, 250, 200, 32), dtype=float32)\n",
      "Tensor(\"Network/POOL1/MaxPool:0\", shape=(4, 250, 200, 32), dtype=float32)\n",
      "Tensor(\"Network/gensketch/Relu:0\", shape=(4, 250, 200, 3), dtype=float32)\n",
      "Setting up summary op...\n",
      "Setting up Saver...\n",
      "Dataset Size 88 \n",
      "No of Batches 22 \n",
      "Epoch 0 \t Batch 1 \t Loss 48861.7227\n",
      "Epoch 0 \t Batch 11 \t Loss 52729.6211\n",
      "Epoch 0 \t Batch 21 \t Loss 52084.8320\n",
      "Epoch 1 \t Batch 1 \t Loss 48861.1484\n",
      "Epoch 1 \t Batch 11 \t Loss 52729.0000\n",
      "Epoch 1 \t Batch 21 \t Loss 52084.1641\n",
      "Epoch 2 \t Batch 1 \t Loss 48860.5195\n",
      "Epoch 2 \t Batch 11 \t Loss 52728.3867\n",
      "Epoch 2 \t Batch 21 \t Loss 52083.5273\n",
      "Epoch 3 \t Batch 1 \t Loss 48859.9219\n",
      "Epoch 3 \t Batch 11 \t Loss 52727.7891\n",
      "Epoch 3 \t Batch 21 \t Loss 52082.8398\n",
      "Epoch 4 \t Batch 1 \t Loss 48859.3008\n",
      "Epoch 4 \t Batch 11 \t Loss 52727.1836\n",
      "Epoch 4 \t Batch 21 \t Loss 52082.1680\n",
      "Epoch 5 \t Batch 1 \t Loss 48858.6445\n",
      "Epoch 5 \t Batch 11 \t Loss 52726.5586\n",
      "Epoch 5 \t Batch 21 \t Loss 52081.4492\n",
      "Epoch 6 \t Batch 1 \t Loss 48858.0078\n",
      "Epoch 6 \t Batch 11 \t Loss 52725.8906\n",
      "Epoch 6 \t Batch 21 \t Loss 52080.7422\n",
      "Epoch 7 \t Batch 1 \t Loss 48857.3203\n",
      "Epoch 7 \t Batch 11 \t Loss 52725.2344\n",
      "Epoch 7 \t Batch 21 \t Loss 52080.0117\n",
      "Epoch 8 \t Batch 1 \t Loss 48856.6367\n",
      "Epoch 8 \t Batch 11 \t Loss 52724.5977\n",
      "Epoch 8 \t Batch 21 \t Loss 52079.2305\n",
      "Epoch 9 \t Batch 1 \t Loss 48855.9219\n",
      "Epoch 9 \t Batch 11 \t Loss 52723.9062\n",
      "Epoch 9 \t Batch 21 \t Loss 52078.5156\n",
      "Epoch 10 \t Batch 1 \t Loss 48855.2031\n",
      "Epoch 10 \t Batch 11 \t Loss 52723.2188\n",
      "Epoch 10 \t Batch 21 \t Loss 52077.7500\n",
      "Epoch 11 \t Batch 1 \t Loss 48854.4727\n",
      "Epoch 11 \t Batch 11 \t Loss 52722.5195\n",
      "Epoch 11 \t Batch 21 \t Loss 52076.9570\n",
      "Epoch 12 \t Batch 1 \t Loss 48853.7344\n",
      "Epoch 12 \t Batch 11 \t Loss 52721.8438\n",
      "Epoch 12 \t Batch 21 \t Loss 52076.2148\n",
      "Epoch 13 \t Batch 1 \t Loss 48852.9766\n",
      "Epoch 13 \t Batch 11 \t Loss 52721.0781\n",
      "Epoch 13 \t Batch 21 \t Loss 52075.4375\n",
      "Epoch 14 \t Batch 1 \t Loss 48852.2500\n",
      "Epoch 14 \t Batch 11 \t Loss 52720.3398\n",
      "Epoch 14 \t Batch 21 \t Loss 52074.7148\n",
      "Epoch 15 \t Batch 1 \t Loss 48851.5039\n",
      "Epoch 15 \t Batch 11 \t Loss 52719.5664\n",
      "Epoch 15 \t Batch 21 \t Loss 52073.8633\n",
      "Epoch 16 \t Batch 1 \t Loss 48850.6875\n",
      "Epoch 16 \t Batch 11 \t Loss 52718.7891\n",
      "Epoch 16 \t Batch 21 \t Loss 52073.0547\n",
      "Epoch 17 \t Batch 1 \t Loss 48849.8594\n",
      "Epoch 17 \t Batch 11 \t Loss 52718.0234\n",
      "Epoch 17 \t Batch 21 \t Loss 52072.2070\n",
      "Epoch 18 \t Batch 1 \t Loss 48848.9883\n",
      "Epoch 18 \t Batch 11 \t Loss 52717.2188\n",
      "Epoch 18 \t Batch 21 \t Loss 52071.3984\n",
      "Epoch 19 \t Batch 1 \t Loss 48848.2148\n",
      "Epoch 19 \t Batch 11 \t Loss 52716.4219\n",
      "Epoch 19 \t Batch 21 \t Loss 52070.5586\n",
      "Epoch 20 \t Batch 1 \t Loss 48847.4453\n",
      "Epoch 20 \t Batch 11 \t Loss 52715.5898\n",
      "Epoch 20 \t Batch 21 \t Loss 52069.7383\n",
      "Epoch 21 \t Batch 1 \t Loss 48846.5664\n",
      "Epoch 21 \t Batch 11 \t Loss 52714.7695\n",
      "Epoch 21 \t Batch 21 \t Loss 52068.9375\n"
     ]
    }
   ],
   "source": [
    "tf.reset_default_graph()\n",
    "global sess \n",
    "\n",
    "sess = tf.Session()\n",
    "FSSN()"
   ]
  },
  {
   "cell_type": "code",
   "execution_count": 12,
   "metadata": {},
   "outputs": [],
   "source": [
    "photo_paths =get_file_paths(path[0])\n",
    "sketch_paths = get_file_paths(path[1])\n",
    "    \n",
    "dataset_size = len(photo_paths)\n",
    "n_batches = dataset_size/4"
   ]
  },
  {
   "cell_type": "code",
   "execution_count": 13,
   "metadata": {},
   "outputs": [
    {
     "data": {
      "text/plain": [
       "22.0"
      ]
     },
     "execution_count": 13,
     "metadata": {},
     "output_type": "execute_result"
    }
   ],
   "source": [
    "n_batches"
   ]
  },
  {
   "cell_type": "code",
   "execution_count": 14,
   "metadata": {},
   "outputs": [
    {
     "data": {
      "text/plain": [
       "88"
      ]
     },
     "execution_count": 14,
     "metadata": {},
     "output_type": "execute_result"
    }
   ],
   "source": [
    "dataset_size"
   ]
  },
  {
   "cell_type": "code",
   "execution_count": 15,
   "metadata": {},
   "outputs": [
    {
     "data": {
      "text/plain": [
       "['C:\\\\Users\\\\shuvo\\\\Downloads\\\\Compressed\\\\CUHK_training_photo\\\\photo\\\\f-005-01.jpg',\n",
       " 'C:\\\\Users\\\\shuvo\\\\Downloads\\\\Compressed\\\\CUHK_training_photo\\\\photo\\\\f-006-01.jpg',\n",
       " 'C:\\\\Users\\\\shuvo\\\\Downloads\\\\Compressed\\\\CUHK_training_photo\\\\photo\\\\f-007-01.jpg',\n",
       " 'C:\\\\Users\\\\shuvo\\\\Downloads\\\\Compressed\\\\CUHK_training_photo\\\\photo\\\\f-008-01.jpg',\n",
       " 'C:\\\\Users\\\\shuvo\\\\Downloads\\\\Compressed\\\\CUHK_training_photo\\\\photo\\\\f-009-01.jpg',\n",
       " 'C:\\\\Users\\\\shuvo\\\\Downloads\\\\Compressed\\\\CUHK_training_photo\\\\photo\\\\f-010-01.jpg',\n",
       " 'C:\\\\Users\\\\shuvo\\\\Downloads\\\\Compressed\\\\CUHK_training_photo\\\\photo\\\\f-011-01.jpg',\n",
       " 'C:\\\\Users\\\\shuvo\\\\Downloads\\\\Compressed\\\\CUHK_training_photo\\\\photo\\\\f-012-01.jpg',\n",
       " 'C:\\\\Users\\\\shuvo\\\\Downloads\\\\Compressed\\\\CUHK_training_photo\\\\photo\\\\f-013-01.jpg',\n",
       " 'C:\\\\Users\\\\shuvo\\\\Downloads\\\\Compressed\\\\CUHK_training_photo\\\\photo\\\\f-014-01.jpg',\n",
       " 'C:\\\\Users\\\\shuvo\\\\Downloads\\\\Compressed\\\\CUHK_training_photo\\\\photo\\\\f-015-01.jpg',\n",
       " 'C:\\\\Users\\\\shuvo\\\\Downloads\\\\Compressed\\\\CUHK_training_photo\\\\photo\\\\f-016-01.jpg',\n",
       " 'C:\\\\Users\\\\shuvo\\\\Downloads\\\\Compressed\\\\CUHK_training_photo\\\\photo\\\\f-017-01.jpg',\n",
       " 'C:\\\\Users\\\\shuvo\\\\Downloads\\\\Compressed\\\\CUHK_training_photo\\\\photo\\\\f-018-01.jpg',\n",
       " 'C:\\\\Users\\\\shuvo\\\\Downloads\\\\Compressed\\\\CUHK_training_photo\\\\photo\\\\f-019-01.jpg',\n",
       " 'C:\\\\Users\\\\shuvo\\\\Downloads\\\\Compressed\\\\CUHK_training_photo\\\\photo\\\\f-020-01.jpg',\n",
       " 'C:\\\\Users\\\\shuvo\\\\Downloads\\\\Compressed\\\\CUHK_training_photo\\\\photo\\\\f-021-01.jpg',\n",
       " 'C:\\\\Users\\\\shuvo\\\\Downloads\\\\Compressed\\\\CUHK_training_photo\\\\photo\\\\f-022-01.jpg',\n",
       " 'C:\\\\Users\\\\shuvo\\\\Downloads\\\\Compressed\\\\CUHK_training_photo\\\\photo\\\\f-023-01.jpg',\n",
       " 'C:\\\\Users\\\\shuvo\\\\Downloads\\\\Compressed\\\\CUHK_training_photo\\\\photo\\\\f-024-01.jpg',\n",
       " 'C:\\\\Users\\\\shuvo\\\\Downloads\\\\Compressed\\\\CUHK_training_photo\\\\photo\\\\f-025-01.jpg',\n",
       " 'C:\\\\Users\\\\shuvo\\\\Downloads\\\\Compressed\\\\CUHK_training_photo\\\\photo\\\\f-026-01.jpg',\n",
       " 'C:\\\\Users\\\\shuvo\\\\Downloads\\\\Compressed\\\\CUHK_training_photo\\\\photo\\\\f-027-01.jpg',\n",
       " 'C:\\\\Users\\\\shuvo\\\\Downloads\\\\Compressed\\\\CUHK_training_photo\\\\photo\\\\f-028-01.jpg',\n",
       " 'C:\\\\Users\\\\shuvo\\\\Downloads\\\\Compressed\\\\CUHK_training_photo\\\\photo\\\\f-029-01.jpg',\n",
       " 'C:\\\\Users\\\\shuvo\\\\Downloads\\\\Compressed\\\\CUHK_training_photo\\\\photo\\\\f-030-01.jpg',\n",
       " 'C:\\\\Users\\\\shuvo\\\\Downloads\\\\Compressed\\\\CUHK_training_photo\\\\photo\\\\f-031-01.jpg',\n",
       " 'C:\\\\Users\\\\shuvo\\\\Downloads\\\\Compressed\\\\CUHK_training_photo\\\\photo\\\\f-032-01.jpg',\n",
       " 'C:\\\\Users\\\\shuvo\\\\Downloads\\\\Compressed\\\\CUHK_training_photo\\\\photo\\\\f-033-01.jpg',\n",
       " 'C:\\\\Users\\\\shuvo\\\\Downloads\\\\Compressed\\\\CUHK_training_photo\\\\photo\\\\f-034-01.jpg',\n",
       " 'C:\\\\Users\\\\shuvo\\\\Downloads\\\\Compressed\\\\CUHK_training_photo\\\\photo\\\\f-035-01.jpg',\n",
       " 'C:\\\\Users\\\\shuvo\\\\Downloads\\\\Compressed\\\\CUHK_training_photo\\\\photo\\\\f-036-01.jpg',\n",
       " 'C:\\\\Users\\\\shuvo\\\\Downloads\\\\Compressed\\\\CUHK_training_photo\\\\photo\\\\f-037-01.jpg',\n",
       " 'C:\\\\Users\\\\shuvo\\\\Downloads\\\\Compressed\\\\CUHK_training_photo\\\\photo\\\\f-038-01.jpg',\n",
       " 'C:\\\\Users\\\\shuvo\\\\Downloads\\\\Compressed\\\\CUHK_training_photo\\\\photo\\\\m-008-01.JPG',\n",
       " 'C:\\\\Users\\\\shuvo\\\\Downloads\\\\Compressed\\\\CUHK_training_photo\\\\photo\\\\m-009-01.jpg',\n",
       " 'C:\\\\Users\\\\shuvo\\\\Downloads\\\\Compressed\\\\CUHK_training_photo\\\\photo\\\\m-010-01.JPG',\n",
       " 'C:\\\\Users\\\\shuvo\\\\Downloads\\\\Compressed\\\\CUHK_training_photo\\\\photo\\\\m-011-01.jpg',\n",
       " 'C:\\\\Users\\\\shuvo\\\\Downloads\\\\Compressed\\\\CUHK_training_photo\\\\photo\\\\m-012-01.jpg',\n",
       " 'C:\\\\Users\\\\shuvo\\\\Downloads\\\\Compressed\\\\CUHK_training_photo\\\\photo\\\\m-013-01.jpg',\n",
       " 'C:\\\\Users\\\\shuvo\\\\Downloads\\\\Compressed\\\\CUHK_training_photo\\\\photo\\\\m-014-01.jpg',\n",
       " 'C:\\\\Users\\\\shuvo\\\\Downloads\\\\Compressed\\\\CUHK_training_photo\\\\photo\\\\m-015-01.jpg',\n",
       " 'C:\\\\Users\\\\shuvo\\\\Downloads\\\\Compressed\\\\CUHK_training_photo\\\\photo\\\\m-016-01.jpg',\n",
       " 'C:\\\\Users\\\\shuvo\\\\Downloads\\\\Compressed\\\\CUHK_training_photo\\\\photo\\\\m-017-01.jpg',\n",
       " 'C:\\\\Users\\\\shuvo\\\\Downloads\\\\Compressed\\\\CUHK_training_photo\\\\photo\\\\m-018-01.jpg',\n",
       " 'C:\\\\Users\\\\shuvo\\\\Downloads\\\\Compressed\\\\CUHK_training_photo\\\\photo\\\\m-019-01.jpg',\n",
       " 'C:\\\\Users\\\\shuvo\\\\Downloads\\\\Compressed\\\\CUHK_training_photo\\\\photo\\\\m-021-01.jpg',\n",
       " 'C:\\\\Users\\\\shuvo\\\\Downloads\\\\Compressed\\\\CUHK_training_photo\\\\photo\\\\m-022-01.jpg',\n",
       " 'C:\\\\Users\\\\shuvo\\\\Downloads\\\\Compressed\\\\CUHK_training_photo\\\\photo\\\\m-023-01.jpg',\n",
       " 'C:\\\\Users\\\\shuvo\\\\Downloads\\\\Compressed\\\\CUHK_training_photo\\\\photo\\\\m-024-01.jpg',\n",
       " 'C:\\\\Users\\\\shuvo\\\\Downloads\\\\Compressed\\\\CUHK_training_photo\\\\photo\\\\m-025-01.jpg',\n",
       " 'C:\\\\Users\\\\shuvo\\\\Downloads\\\\Compressed\\\\CUHK_training_photo\\\\photo\\\\m-026-01.jpg',\n",
       " 'C:\\\\Users\\\\shuvo\\\\Downloads\\\\Compressed\\\\CUHK_training_photo\\\\photo\\\\m-027-01.jpg',\n",
       " 'C:\\\\Users\\\\shuvo\\\\Downloads\\\\Compressed\\\\CUHK_training_photo\\\\photo\\\\m-028-01.jpg',\n",
       " 'C:\\\\Users\\\\shuvo\\\\Downloads\\\\Compressed\\\\CUHK_training_photo\\\\photo\\\\m-029-01.jpg',\n",
       " 'C:\\\\Users\\\\shuvo\\\\Downloads\\\\Compressed\\\\CUHK_training_photo\\\\photo\\\\m-030-01.jpg',\n",
       " 'C:\\\\Users\\\\shuvo\\\\Downloads\\\\Compressed\\\\CUHK_training_photo\\\\photo\\\\m-031-01.jpg',\n",
       " 'C:\\\\Users\\\\shuvo\\\\Downloads\\\\Compressed\\\\CUHK_training_photo\\\\photo\\\\m-032-01.jpg',\n",
       " 'C:\\\\Users\\\\shuvo\\\\Downloads\\\\Compressed\\\\CUHK_training_photo\\\\photo\\\\m-033-01.jpg',\n",
       " 'C:\\\\Users\\\\shuvo\\\\Downloads\\\\Compressed\\\\CUHK_training_photo\\\\photo\\\\m-034-01.jpg',\n",
       " 'C:\\\\Users\\\\shuvo\\\\Downloads\\\\Compressed\\\\CUHK_training_photo\\\\photo\\\\m-035-01.jpg',\n",
       " 'C:\\\\Users\\\\shuvo\\\\Downloads\\\\Compressed\\\\CUHK_training_photo\\\\photo\\\\m-036-01.jpg',\n",
       " 'C:\\\\Users\\\\shuvo\\\\Downloads\\\\Compressed\\\\CUHK_training_photo\\\\photo\\\\m-037-01.jpg',\n",
       " 'C:\\\\Users\\\\shuvo\\\\Downloads\\\\Compressed\\\\CUHK_training_photo\\\\photo\\\\m-038-01.jpg',\n",
       " 'C:\\\\Users\\\\shuvo\\\\Downloads\\\\Compressed\\\\CUHK_training_photo\\\\photo\\\\m-039-01.jpg',\n",
       " 'C:\\\\Users\\\\shuvo\\\\Downloads\\\\Compressed\\\\CUHK_training_photo\\\\photo\\\\m-040-01.jpg',\n",
       " 'C:\\\\Users\\\\shuvo\\\\Downloads\\\\Compressed\\\\CUHK_training_photo\\\\photo\\\\m-041-01.jpg',\n",
       " 'C:\\\\Users\\\\shuvo\\\\Downloads\\\\Compressed\\\\CUHK_training_photo\\\\photo\\\\m-042-01.jpg',\n",
       " 'C:\\\\Users\\\\shuvo\\\\Downloads\\\\Compressed\\\\CUHK_training_photo\\\\photo\\\\m-043-01.jpg',\n",
       " 'C:\\\\Users\\\\shuvo\\\\Downloads\\\\Compressed\\\\CUHK_training_photo\\\\photo\\\\m-044-01.jpg',\n",
       " 'C:\\\\Users\\\\shuvo\\\\Downloads\\\\Compressed\\\\CUHK_training_photo\\\\photo\\\\m-045-01.jpg',\n",
       " 'C:\\\\Users\\\\shuvo\\\\Downloads\\\\Compressed\\\\CUHK_training_photo\\\\photo\\\\m-046-01.jpg',\n",
       " 'C:\\\\Users\\\\shuvo\\\\Downloads\\\\Compressed\\\\CUHK_training_photo\\\\photo\\\\m-047-01.jpg',\n",
       " 'C:\\\\Users\\\\shuvo\\\\Downloads\\\\Compressed\\\\CUHK_training_photo\\\\photo\\\\m-048-01.jpg',\n",
       " 'C:\\\\Users\\\\shuvo\\\\Downloads\\\\Compressed\\\\CUHK_training_photo\\\\photo\\\\m-049-01.jpg',\n",
       " 'C:\\\\Users\\\\shuvo\\\\Downloads\\\\Compressed\\\\CUHK_training_photo\\\\photo\\\\m-050-01.jpg',\n",
       " 'C:\\\\Users\\\\shuvo\\\\Downloads\\\\Compressed\\\\CUHK_training_photo\\\\photo\\\\m-051-01.jpg',\n",
       " 'C:\\\\Users\\\\shuvo\\\\Downloads\\\\Compressed\\\\CUHK_training_photo\\\\photo\\\\m-052-01.jpg',\n",
       " 'C:\\\\Users\\\\shuvo\\\\Downloads\\\\Compressed\\\\CUHK_training_photo\\\\photo\\\\m-053-01.jpg',\n",
       " 'C:\\\\Users\\\\shuvo\\\\Downloads\\\\Compressed\\\\CUHK_training_photo\\\\photo\\\\m-054-01.jpg',\n",
       " 'C:\\\\Users\\\\shuvo\\\\Downloads\\\\Compressed\\\\CUHK_training_photo\\\\photo\\\\m-055-01.jpg',\n",
       " 'C:\\\\Users\\\\shuvo\\\\Downloads\\\\Compressed\\\\CUHK_training_photo\\\\photo\\\\m-056-01.jpg',\n",
       " 'C:\\\\Users\\\\shuvo\\\\Downloads\\\\Compressed\\\\CUHK_training_photo\\\\photo\\\\m-057-01.jpg',\n",
       " 'C:\\\\Users\\\\shuvo\\\\Downloads\\\\Compressed\\\\CUHK_training_photo\\\\photo\\\\m-058-01.jpg',\n",
       " 'C:\\\\Users\\\\shuvo\\\\Downloads\\\\Compressed\\\\CUHK_training_photo\\\\photo\\\\m-059-01.jpg',\n",
       " 'C:\\\\Users\\\\shuvo\\\\Downloads\\\\Compressed\\\\CUHK_training_photo\\\\photo\\\\m-060-01.jpg',\n",
       " 'C:\\\\Users\\\\shuvo\\\\Downloads\\\\Compressed\\\\CUHK_training_photo\\\\photo\\\\m-061-01.jpg',\n",
       " 'C:\\\\Users\\\\shuvo\\\\Downloads\\\\Compressed\\\\CUHK_training_photo\\\\photo\\\\m-062-01.jpg']"
      ]
     },
     "execution_count": 15,
     "metadata": {},
     "output_type": "execute_result"
    }
   ],
   "source": [
    "photo_paths"
   ]
  },
  {
   "cell_type": "code",
   "execution_count": null,
   "metadata": {},
   "outputs": [],
   "source": []
  }
 ],
 "metadata": {
  "kernelspec": {
   "display_name": "Python 3",
   "language": "python",
   "name": "python3"
  },
  "language_info": {
   "codemirror_mode": {
    "name": "ipython",
    "version": 3
   },
   "file_extension": ".py",
   "mimetype": "text/x-python",
   "name": "python",
   "nbconvert_exporter": "python",
   "pygments_lexer": "ipython3",
   "version": "3.5.4"
  }
 },
 "nbformat": 4,
 "nbformat_minor": 2
}
