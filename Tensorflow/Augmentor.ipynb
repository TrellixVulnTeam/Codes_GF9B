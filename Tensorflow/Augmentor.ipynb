{
 "cells": [
  {
   "cell_type": "markdown",
   "metadata": {},
   "source": [
    "# How to use\n",
    "\n",
    "1- Change the path to the path of the database\n",
    "\n",
    "2- Two is the size of the number of generated images for folders containing sub folders like 103/1 and 103/2\n",
    "\n",
    "3- One is the size of the number of generated images for other folders containing only files"
   ]
  },
  {
   "cell_type": "code",
   "execution_count": 135,
   "metadata": {},
   "outputs": [],
   "source": [
    "import Augmentor\n",
    "import numpy as np\n",
    "import os"
   ]
  },
  {
   "cell_type": "code",
   "execution_count": 137,
   "metadata": {},
   "outputs": [],
   "source": [
    "path = \"/home/ayon/IsolatedTest_New/\""
   ]
  },
  {
   "cell_type": "code",
   "execution_count": null,
   "metadata": {},
   "outputs": [],
   "source": [
    "global params{'path': path,\n",
    "              'two' : 150,\n",
    "              'one' : 300}"
   ]
  },
  {
   "cell_type": "code",
   "execution_count": 136,
   "metadata": {},
   "outputs": [],
   "source": [
    "def get_dir_paths(path):\n",
    "    paths = []\n",
    "    for root, dirs, _ in os.walk(path):\n",
    "        if(len(dirs) == 0):\n",
    "            paths.append(root)\n",
    "    return sorted(paths)"
   ]
  },
  {
   "cell_type": "code",
   "execution_count": 140,
   "metadata": {},
   "outputs": [
    {
     "data": {
      "text/plain": [
       "199"
      ]
     },
     "execution_count": 140,
     "metadata": {},
     "output_type": "execute_result"
    }
   ],
   "source": [
    "sub_paths = get_dir_paths(params['path'])\n",
    "# len(sub_paths)"
   ]
  },
  {
   "cell_type": "code",
   "execution_count": 141,
   "metadata": {},
   "outputs": [
    {
     "name": "stderr",
     "output_type": "stream",
     "text": [
      "Processing bcc000047.bmp:   9%|▉         | 14/150 [00:00<00:01, 73.69 Samples/s]"
     ]
    },
    {
     "name": "stdout",
     "output_type": "stream",
     "text": [
      "Initialised with 52 image(s) found.\n",
      "Output directory set to /home/ayon/IsolatedTest_New/1."
     ]
    },
    {
     "name": "stderr",
     "output_type": "stream",
     "text": [
      "Processing bcc000041.bmp:  13%|█▎        | 20/150 [00:00<00:01, 117.53 Samples/s]"
     ]
    },
    {
     "name": "stdout",
     "output_type": "stream",
     "text": [
      "Initialised with 55 image(s) found.\n",
      "Output directory set to /home/ayon/IsolatedTest_New/10."
     ]
    },
    {
     "name": "stderr",
     "output_type": "stream",
     "text": [
      "Processing bcc000009.bmp:  13%|█▎        | 20/150 [00:00<00:01, 127.87 Samples/s]"
     ]
    },
    {
     "name": "stdout",
     "output_type": "stream",
     "text": [
      "Initialised with 48 image(s) found.\n",
      "Output directory set to /home/ayon/IsolatedTest_New/100."
     ]
    },
    {
     "name": "stderr",
     "output_type": "stream",
     "text": [
      "Processing bcc000044.bmp:  11%|█         | 16/150 [00:00<00:02, 63.97 Samples/s] "
     ]
    },
    {
     "name": "stdout",
     "output_type": "stream",
     "text": [
      "Initialised with 48 image(s) found.\n",
      "Output directory set to /home/ayon/IsolatedTest_New/101."
     ]
    },
    {
     "name": "stderr",
     "output_type": "stream",
     "text": [
      "Processing bcc000004.bmp:  12%|█▏        | 18/150 [00:00<00:01, 103.05 Samples/s]"
     ]
    },
    {
     "name": "stdout",
     "output_type": "stream",
     "text": [
      "Initialised with 41 image(s) found.\n",
      "Output directory set to /home/ayon/IsolatedTest_New/102."
     ]
    },
    {
     "name": "stderr",
     "output_type": "stream",
     "text": [
      "Processing bcc000009.bmp:   4%|▍         | 13/300 [00:00<00:03, 91.53 Samples/s] "
     ]
    },
    {
     "name": "stdout",
     "output_type": "stream",
     "text": [
      "Initialised with 25 image(s) found.\n",
      "Output directory set to /home/ayon/IsolatedTest_New/103/1."
     ]
    },
    {
     "name": "stderr",
     "output_type": "stream",
     "text": [
      "Processing bcc000013.bmp:   7%|▋         | 21/300 [00:00<00:02, 107.48 Samples/s]"
     ]
    },
    {
     "name": "stdout",
     "output_type": "stream",
     "text": [
      "Initialised with 28 image(s) found.\n",
      "Output directory set to /home/ayon/IsolatedTest_New/103/2."
     ]
    },
    {
     "name": "stderr",
     "output_type": "stream",
     "text": [
      "Processing bcc000021.bmp:   9%|▉         | 14/150 [00:00<00:02, 67.45 Samples/s] "
     ]
    },
    {
     "name": "stdout",
     "output_type": "stream",
     "text": [
      "Initialised with 44 image(s) found.\n",
      "Output directory set to /home/ayon/IsolatedTest_New/104."
     ]
    },
    {
     "name": "stderr",
     "output_type": "stream",
     "text": [
      "Processing bcc000036.bmp:   9%|▊         | 13/150 [00:00<00:01, 76.25 Samples/s] "
     ]
    },
    {
     "name": "stdout",
     "output_type": "stream",
     "text": [
      "Initialised with 43 image(s) found.\n",
      "Output directory set to /home/ayon/IsolatedTest_New/105."
     ]
    },
    {
     "name": "stderr",
     "output_type": "stream",
     "text": [
      "Processing bcc000021.bmp:   9%|▉         | 14/150 [00:00<00:01, 74.68 Samples/s] "
     ]
    },
    {
     "name": "stdout",
     "output_type": "stream",
     "text": [
      "Initialised with 42 image(s) found.\n",
      "Output directory set to /home/ayon/IsolatedTest_New/106."
     ]
    },
    {
     "name": "stderr",
     "output_type": "stream",
     "text": [
      "Processing bcc000009.bmp:  12%|█▏        | 18/150 [00:00<00:01, 87.95 Samples/s] "
     ]
    },
    {
     "name": "stdout",
     "output_type": "stream",
     "text": [
      "Initialised with 43 image(s) found.\n",
      "Output directory set to /home/ayon/IsolatedTest_New/107."
     ]
    },
    {
     "name": "stderr",
     "output_type": "stream",
     "text": [
      "Processing bcc000026.bmp:  11%|█▏        | 17/150 [00:00<00:01, 107.18 Samples/s]"
     ]
    },
    {
     "name": "stdout",
     "output_type": "stream",
     "text": [
      "Initialised with 48 image(s) found.\n",
      "Output directory set to /home/ayon/IsolatedTest_New/108."
     ]
    },
    {
     "name": "stderr",
     "output_type": "stream",
     "text": [
      "Processing bcc000044.bmp:  11%|█▏        | 17/150 [00:00<00:01, 80.42 Samples/s] "
     ]
    },
    {
     "name": "stdout",
     "output_type": "stream",
     "text": [
      "Initialised with 50 image(s) found.\n",
      "Output directory set to /home/ayon/IsolatedTest_New/109."
     ]
    },
    {
     "name": "stderr",
     "output_type": "stream",
     "text": [
      "Processing bcc000036.bmp:  10%|█         | 15/150 [00:00<00:01, 89.14 Samples/s] "
     ]
    },
    {
     "name": "stdout",
     "output_type": "stream",
     "text": [
      "Initialised with 51 image(s) found.\n",
      "Output directory set to /home/ayon/IsolatedTest_New/11."
     ]
    },
    {
     "name": "stderr",
     "output_type": "stream",
     "text": [
      "Processing bcc000036.bmp:   9%|▊         | 13/150 [00:00<00:02, 62.02 Samples/s] "
     ]
    },
    {
     "name": "stdout",
     "output_type": "stream",
     "text": [
      "Initialised with 45 image(s) found.\n",
      "Output directory set to /home/ayon/IsolatedTest_New/110."
     ]
    },
    {
     "name": "stderr",
     "output_type": "stream",
     "text": [
      "Processing bcc000004.bmp:  13%|█▎        | 19/150 [00:00<00:01, 95.44 Samples/s] "
     ]
    },
    {
     "name": "stdout",
     "output_type": "stream",
     "text": [
      "Initialised with 44 image(s) found.\n",
      "Output directory set to /home/ayon/IsolatedTest_New/111."
     ]
    },
    {
     "name": "stderr",
     "output_type": "stream",
     "text": [
      "Processing bcc000013.bmp:   6%|▌         | 18/300 [00:00<00:02, 100.93 Samples/s]"
     ]
    },
    {
     "name": "stdout",
     "output_type": "stream",
     "text": [
      "Initialised with 25 image(s) found.\n",
      "Output directory set to /home/ayon/IsolatedTest_New/112/1."
     ]
    },
    {
     "name": "stderr",
     "output_type": "stream",
     "text": [
      "Processing bcc000015.bmp:   7%|▋         | 22/300 [00:00<00:02, 116.59 Samples/s]"
     ]
    },
    {
     "name": "stdout",
     "output_type": "stream",
     "text": [
      "Initialised with 26 image(s) found.\n",
      "Output directory set to /home/ayon/IsolatedTest_New/112/2."
     ]
    },
    {
     "name": "stderr",
     "output_type": "stream",
     "text": [
      "Processing bcc000044.bmp:  11%|█         | 16/150 [00:00<00:01, 92.49 Samples/s] "
     ]
    },
    {
     "name": "stdout",
     "output_type": "stream",
     "text": [
      "Initialised with 48 image(s) found.\n",
      "Output directory set to /home/ayon/IsolatedTest_New/113."
     ]
    },
    {
     "name": "stderr",
     "output_type": "stream",
     "text": [
      "Processing bcc000021.bmp:   9%|▉         | 14/150 [00:00<00:01, 77.87 Samples/s] "
     ]
    },
    {
     "name": "stdout",
     "output_type": "stream",
     "text": [
      "Initialised with 43 image(s) found.\n",
      "Output directory set to /home/ayon/IsolatedTest_New/114."
     ]
    },
    {
     "name": "stderr",
     "output_type": "stream",
     "text": [
      "Processing bcc000009.bmp:  13%|█▎        | 19/150 [00:00<00:01, 92.38 Samples/s] "
     ]
    },
    {
     "name": "stdout",
     "output_type": "stream",
     "text": [
      "Initialised with 47 image(s) found.\n",
      "Output directory set to /home/ayon/IsolatedTest_New/115."
     ]
    },
    {
     "name": "stderr",
     "output_type": "stream",
     "text": [
      "Processing bcc000005.bmp:   9%|▊         | 13/150 [00:00<00:01, 75.10 Samples/s] "
     ]
    },
    {
     "name": "stdout",
     "output_type": "stream",
     "text": [
      "Initialised with 51 image(s) found.\n",
      "Output directory set to /home/ayon/IsolatedTest_New/116."
     ]
    },
    {
     "name": "stderr",
     "output_type": "stream",
     "text": [
      "Processing bcc000047.bmp:   9%|▉         | 14/150 [00:00<00:01, 78.41 Samples/s] "
     ]
    },
    {
     "name": "stdout",
     "output_type": "stream",
     "text": [
      "Initialised with 49 image(s) found.\n",
      "Output directory set to /home/ayon/IsolatedTest_New/117."
     ]
    },
    {
     "name": "stderr",
     "output_type": "stream",
     "text": [
      "Processing bcc000036.bmp:  10%|█         | 15/150 [00:00<00:01, 92.38 Samples/s] "
     ]
    },
    {
     "name": "stdout",
     "output_type": "stream",
     "text": [
      "Initialised with 51 image(s) found.\n",
      "Output directory set to /home/ayon/IsolatedTest_New/118."
     ]
    },
    {
     "name": "stderr",
     "output_type": "stream",
     "text": [
      "Processing bcc000026.bmp:  11%|█▏        | 17/150 [00:00<00:01, 97.30 Samples/s] "
     ]
    },
    {
     "name": "stdout",
     "output_type": "stream",
     "text": [
      "Initialised with 48 image(s) found.\n",
      "Output directory set to /home/ayon/IsolatedTest_New/119."
     ]
    },
    {
     "name": "stderr",
     "output_type": "stream",
     "text": [
      "Processing bcc000003.bmp:   6%|▌         | 17/300 [00:00<00:02, 100.44 Samples/s]"
     ]
    },
    {
     "name": "stdout",
     "output_type": "stream",
     "text": [
      "Initialised with 26 image(s) found.\n",
      "Output directory set to /home/ayon/IsolatedTest_New/12/1."
     ]
    },
    {
     "name": "stderr",
     "output_type": "stream",
     "text": [
      "Processing bcc000029.bmp:   7%|▋         | 20/300 [00:00<00:02, 105.66 Samples/s]"
     ]
    },
    {
     "name": "stdout",
     "output_type": "stream",
     "text": [
      "Initialised with 33 image(s) found.\n",
      "Output directory set to /home/ayon/IsolatedTest_New/12/2."
     ]
    },
    {
     "name": "stderr",
     "output_type": "stream",
     "text": [
      "Processing bcc000026.bmp:  11%|█▏        | 17/150 [00:00<00:01, 101.39 Samples/s]"
     ]
    },
    {
     "name": "stdout",
     "output_type": "stream",
     "text": [
      "Initialised with 48 image(s) found.\n",
      "Output directory set to /home/ayon/IsolatedTest_New/120."
     ]
    },
    {
     "name": "stderr",
     "output_type": "stream",
     "text": [
      "Processing bcc000004.bmp:  13%|█▎        | 20/150 [00:00<00:01, 110.67 Samples/s]"
     ]
    },
    {
     "name": "stdout",
     "output_type": "stream",
     "text": [
      "Initialised with 47 image(s) found.\n",
      "Output directory set to /home/ayon/IsolatedTest_New/121."
     ]
    },
    {
     "name": "stderr",
     "output_type": "stream",
     "text": [
      "Processing bcc000009.bmp:  12%|█▏        | 18/150 [00:00<00:01, 92.94 Samples/s] "
     ]
    },
    {
     "name": "stdout",
     "output_type": "stream",
     "text": [
      "Initialised with 42 image(s) found.\n",
      "Output directory set to /home/ayon/IsolatedTest_New/122."
     ]
    },
    {
     "name": "stderr",
     "output_type": "stream",
     "text": [
      "Processing bcc000049.bmp:  13%|█▎        | 20/150 [00:00<00:00, 134.08 Samples/s]"
     ]
    },
    {
     "name": "stdout",
     "output_type": "stream",
     "text": [
      "Initialised with 50 image(s) found.\n",
      "Output directory set to /home/ayon/IsolatedTest_New/123."
     ]
    },
    {
     "name": "stderr",
     "output_type": "stream",
     "text": [
      "Processing bcc000036.bmp:   9%|▊         | 13/150 [00:00<00:01, 87.85 Samples/s] "
     ]
    },
    {
     "name": "stdout",
     "output_type": "stream",
     "text": [
      "Initialised with 42 image(s) found.\n",
      "Output directory set to /home/ayon/IsolatedTest_New/124."
     ]
    },
    {
     "name": "stderr",
     "output_type": "stream",
     "text": [
      "Processing bcc000047.bmp:   9%|▉         | 14/150 [00:00<00:01, 69.77 Samples/s] "
     ]
    },
    {
     "name": "stdout",
     "output_type": "stream",
     "text": [
      "Initialised with 50 image(s) found.\n",
      "Output directory set to /home/ayon/IsolatedTest_New/125."
     ]
    },
    {
     "name": "stderr",
     "output_type": "stream",
     "text": [
      "Processing bcc000049.bmp:  13%|█▎        | 20/150 [00:00<00:01, 100.91 Samples/s]"
     ]
    },
    {
     "name": "stdout",
     "output_type": "stream",
     "text": [
      "Initialised with 50 image(s) found.\n",
      "Output directory set to /home/ayon/IsolatedTest_New/126."
     ]
    },
    {
     "name": "stderr",
     "output_type": "stream",
     "text": [
      "Processing bcc000012.bmp:   8%|▊         | 23/300 [00:00<00:02, 126.98 Samples/s] "
     ]
    },
    {
     "name": "stdout",
     "output_type": "stream",
     "text": [
      "Initialised with 25 image(s) found.\n",
      "Output directory set to /home/ayon/IsolatedTest_New/127/1."
     ]
    },
    {
     "name": "stderr",
     "output_type": "stream",
     "text": [
      "Processing bcc000005.bmp:   4%|▍         | 12/300 [00:00<00:04, 62.31 Samples/s]  "
     ]
    },
    {
     "name": "stdout",
     "output_type": "stream",
     "text": [
      "Initialised with 28 image(s) found.\n",
      "Output directory set to /home/ayon/IsolatedTest_New/127/2."
     ]
    },
    {
     "name": "stderr",
     "output_type": "stream",
     "text": [
      "Processing bcc000034.bmp:  16%|█▌        | 24/150 [00:00<00:00, 126.20 Samples/s] "
     ]
    },
    {
     "name": "stdout",
     "output_type": "stream",
     "text": [
      "Initialised with 44 image(s) found.\n",
      "Output directory set to /home/ayon/IsolatedTest_New/128."
     ]
    },
    {
     "name": "stderr",
     "output_type": "stream",
     "text": [
      "Processing bcc000022.bmp:   5%|▌         | 15/300 [00:00<00:03, 71.63 Samples/s] "
     ]
    },
    {
     "name": "stdout",
     "output_type": "stream",
     "text": [
      "Initialised with 28 image(s) found.\n",
      "Output directory set to /home/ayon/IsolatedTest_New/129/1."
     ]
    },
    {
     "name": "stderr",
     "output_type": "stream",
     "text": [
      "Processing bcc000013.bmp:   7%|▋         | 22/300 [00:00<00:02, 109.36 Samples/s]"
     ]
    },
    {
     "name": "stdout",
     "output_type": "stream",
     "text": [
      "Initialised with 30 image(s) found.\n",
      "Output directory set to /home/ayon/IsolatedTest_New/129/2."
     ]
    },
    {
     "name": "stderr",
     "output_type": "stream",
     "text": [
      "Processing bcc000047.bmp:  10%|█         | 15/150 [00:00<00:01, 98.71 Samples/s] "
     ]
    },
    {
     "name": "stdout",
     "output_type": "stream",
     "text": [
      "Initialised with 61 image(s) found.\n",
      "Output directory set to /home/ayon/IsolatedTest_New/13."
     ]
    },
    {
     "name": "stderr",
     "output_type": "stream",
     "text": [
      "Processing bcc000026.bmp:  12%|█▏        | 18/150 [00:00<00:01, 106.00 Samples/s]"
     ]
    },
    {
     "name": "stdout",
     "output_type": "stream",
     "text": [
      "Initialised with 49 image(s) found.\n",
      "Output directory set to /home/ayon/IsolatedTest_New/130."
     ]
    },
    {
     "name": "stderr",
     "output_type": "stream",
     "text": [
      "Processing bcc000004.bmp:   5%|▌         | 16/300 [00:00<00:03, 82.55 Samples/s] "
     ]
    },
    {
     "name": "stdout",
     "output_type": "stream",
     "text": [
      "Initialised with 27 image(s) found.\n",
      "Output directory set to /home/ayon/IsolatedTest_New/131/1."
     ]
    },
    {
     "name": "stderr",
     "output_type": "stream",
     "text": [
      "Processing bcc000023.bmp:   5%|▌         | 16/300 [00:00<00:02, 100.79 Samples/s]"
     ]
    },
    {
     "name": "stdout",
     "output_type": "stream",
     "text": [
      "Initialised with 26 image(s) found.\n",
      "Output directory set to /home/ayon/IsolatedTest_New/131/2."
     ]
    },
    {
     "name": "stderr",
     "output_type": "stream",
     "text": [
      "Processing bcc000005.bmp:   3%|▎         | 10/300 [00:00<00:05, 52.84 Samples/s] "
     ]
    },
    {
     "name": "stdout",
     "output_type": "stream",
     "text": [
      "Initialised with 25 image(s) found.\n",
      "Output directory set to /home/ayon/IsolatedTest_New/131/3."
     ]
    },
    {
     "name": "stderr",
     "output_type": "stream",
     "text": [
      "Processing bcc000022.bmp:  11%|█         | 16/150 [00:00<00:01, 96.65 Samples/s] "
     ]
    },
    {
     "name": "stdout",
     "output_type": "stream",
     "text": [
      "Initialised with 40 image(s) found.\n",
      "Output directory set to /home/ayon/IsolatedTest_New/132."
     ]
    },
    {
     "name": "stderr",
     "output_type": "stream",
     "text": [
      "Processing bcc000003.bmp:   6%|▌         | 18/300 [00:00<00:03, 93.32 Samples/s] "
     ]
    },
    {
     "name": "stdout",
     "output_type": "stream",
     "text": [
      "Initialised with 27 image(s) found.\n",
      "Output directory set to /home/ayon/IsolatedTest_New/133/1."
     ]
    },
    {
     "name": "stderr",
     "output_type": "stream",
     "text": [
      "Processing bcc000018.bmp:   8%|▊         | 25/300 [00:00<00:02, 129.67 Samples/s]"
     ]
    },
    {
     "name": "stdout",
     "output_type": "stream",
     "text": [
      "Initialised with 32 image(s) found.\n",
      "Output directory set to /home/ayon/IsolatedTest_New/133/2."
     ]
    },
    {
     "name": "stderr",
     "output_type": "stream",
     "text": [
      "Processing bcc000003.bmp:  15%|█▍        | 22/150 [00:00<00:00, 129.40 Samples/s] "
     ]
    },
    {
     "name": "stdout",
     "output_type": "stream",
     "text": [
      "Initialised with 45 image(s) found.\n",
      "Output directory set to /home/ayon/IsolatedTest_New/134."
     ]
    },
    {
     "name": "stderr",
     "output_type": "stream",
     "text": [
      "Processing bcc000026.bmp:  11%|█         | 16/150 [00:00<00:02, 65.18 Samples/s] "
     ]
    },
    {
     "name": "stdout",
     "output_type": "stream",
     "text": [
      "Initialised with 46 image(s) found.\n",
      "Output directory set to /home/ayon/IsolatedTest_New/135."
     ]
    },
    {
     "name": "stderr",
     "output_type": "stream",
     "text": [
      "Processing bcc000034.bmp:  17%|█▋        | 25/150 [00:00<00:01, 124.38 Samples/s] "
     ]
    },
    {
     "name": "stdout",
     "output_type": "stream",
     "text": [
      "Initialised with 45 image(s) found.\n",
      "Output directory set to /home/ayon/IsolatedTest_New/136."
     ]
    },
    {
     "name": "stderr",
     "output_type": "stream",
     "text": [
      "Processing bcc000004.bmp:  15%|█▌        | 23/150 [00:00<00:00, 129.63 Samples/s] "
     ]
    },
    {
     "name": "stdout",
     "output_type": "stream",
     "text": [
      "Initialised with 50 image(s) found.\n",
      "Output directory set to /home/ayon/IsolatedTest_New/137."
     ]
    },
    {
     "name": "stderr",
     "output_type": "stream",
     "text": [
      "Processing bcc000009.bmp:  15%|█▍        | 22/150 [00:00<00:00, 131.13 Samples/s] "
     ]
    },
    {
     "name": "stdout",
     "output_type": "stream",
     "text": [
      "Initialised with 50 image(s) found.\n",
      "Output directory set to /home/ayon/IsolatedTest_New/138."
     ]
    },
    {
     "name": "stderr",
     "output_type": "stream",
     "text": [
      "Processing bcc000026.bmp:  12%|█▏        | 18/150 [00:00<00:01, 109.72 Samples/s] "
     ]
    },
    {
     "name": "stdout",
     "output_type": "stream",
     "text": [
      "Initialised with 49 image(s) found.\n",
      "Output directory set to /home/ayon/IsolatedTest_New/139."
     ]
    },
    {
     "name": "stderr",
     "output_type": "stream",
     "text": [
      "Processing bcc000023.bmp:  15%|█▍        | 22/150 [00:00<00:00, 133.30 Samples/s]"
     ]
    },
    {
     "name": "stdout",
     "output_type": "stream",
     "text": [
      "Initialised with 48 image(s) found.\n",
      "Output directory set to /home/ayon/IsolatedTest_New/14."
     ]
    },
    {
     "name": "stderr",
     "output_type": "stream",
     "text": [
      "Processing bcc000009.bmp:  12%|█▏        | 18/150 [00:00<00:01, 91.42 Samples/s] "
     ]
    },
    {
     "name": "stdout",
     "output_type": "stream",
     "text": [
      "Initialised with 44 image(s) found.\n",
      "Output directory set to /home/ayon/IsolatedTest_New/140."
     ]
    },
    {
     "name": "stderr",
     "output_type": "stream",
     "text": [
      "Processing bcc000035.bmp:  14%|█▍        | 21/150 [00:00<00:01, 108.16 Samples/s]"
     ]
    },
    {
     "name": "stdout",
     "output_type": "stream",
     "text": [
      "Initialised with 40 image(s) found.\n",
      "Output directory set to /home/ayon/IsolatedTest_New/141."
     ]
    },
    {
     "name": "stderr",
     "output_type": "stream",
     "text": [
      "Processing bcc000023.bmp:  15%|█▌        | 23/150 [00:00<00:01, 126.59 Samples/s]"
     ]
    },
    {
     "name": "stdout",
     "output_type": "stream",
     "text": [
      "Initialised with 49 image(s) found.\n",
      "Output directory set to /home/ayon/IsolatedTest_New/142."
     ]
    },
    {
     "name": "stderr",
     "output_type": "stream",
     "text": [
      "Processing bcc000044.bmp:  11%|█▏        | 17/150 [00:00<00:01, 87.43 Samples/s] "
     ]
    },
    {
     "name": "stdout",
     "output_type": "stream",
     "text": [
      "Initialised with 51 image(s) found.\n",
      "Output directory set to /home/ayon/IsolatedTest_New/143."
     ]
    },
    {
     "name": "stderr",
     "output_type": "stream",
     "text": [
      "Processing bcc000041.bmp:  12%|█▏        | 18/150 [00:00<00:01, 99.16 Samples/s] "
     ]
    },
    {
     "name": "stdout",
     "output_type": "stream",
     "text": [
      "Initialised with 48 image(s) found.\n",
      "Output directory set to /home/ayon/IsolatedTest_New/144."
     ]
    },
    {
     "name": "stderr",
     "output_type": "stream",
     "text": [
      "Processing bcc000015.bmp:   7%|▋         | 21/300 [00:00<00:02, 128.06 Samples/s]"
     ]
    },
    {
     "name": "stdout",
     "output_type": "stream",
     "text": [
      "Initialised with 25 image(s) found.\n",
      "Output directory set to /home/ayon/IsolatedTest_New/145/1."
     ]
    },
    {
     "name": "stderr",
     "output_type": "stream",
     "text": [
      "Processing bcc000013.bmp:   6%|▌         | 18/300 [00:00<00:02, 98.85 Samples/s]  "
     ]
    },
    {
     "name": "stdout",
     "output_type": "stream",
     "text": [
      "Initialised with 25 image(s) found.\n",
      "Output directory set to /home/ayon/IsolatedTest_New/145/2."
     ]
    },
    {
     "name": "stderr",
     "output_type": "stream",
     "text": [
      "Processing bcc000004.bmp:   6%|▌         | 18/300 [00:00<00:03, 82.18 Samples/s] "
     ]
    },
    {
     "name": "stdout",
     "output_type": "stream",
     "text": [
      "Initialised with 40 image(s) found.\n",
      "Output directory set to /home/ayon/IsolatedTest_New/146/1."
     ]
    },
    {
     "name": "stderr",
     "output_type": "stream",
     "text": [
      "Processing bcc000017.bmp:   7%|▋         | 21/300 [00:00<00:02, 120.86 Samples/s]"
     ]
    },
    {
     "name": "stdout",
     "output_type": "stream",
     "text": [
      "Initialised with 27 image(s) found.\n",
      "Output directory set to /home/ayon/IsolatedTest_New/146/2."
     ]
    },
    {
     "name": "stderr",
     "output_type": "stream",
     "text": [
      "Processing bcc000004.bmp:  15%|█▍        | 22/150 [00:00<00:01, 117.99 Samples/s] "
     ]
    },
    {
     "name": "stdout",
     "output_type": "stream",
     "text": [
      "Initialised with 49 image(s) found.\n",
      "Output directory set to /home/ayon/IsolatedTest_New/147."
     ]
    },
    {
     "name": "stderr",
     "output_type": "stream",
     "text": [
      "Processing bcc000009.bmp:  13%|█▎        | 19/150 [00:00<00:00, 137.79 Samples/s] "
     ]
    },
    {
     "name": "stdout",
     "output_type": "stream",
     "text": [
      "Initialised with 45 image(s) found.\n",
      "Output directory set to /home/ayon/IsolatedTest_New/148."
     ]
    },
    {
     "name": "stderr",
     "output_type": "stream",
     "text": [
      "Processing bcc000026.bmp:  10%|█         | 15/150 [00:00<00:01, 97.46 Samples/s] "
     ]
    },
    {
     "name": "stdout",
     "output_type": "stream",
     "text": [
      "Initialised with 42 image(s) found.\n",
      "Output directory set to /home/ayon/IsolatedTest_New/149."
     ]
    },
    {
     "name": "stderr",
     "output_type": "stream",
     "text": [
      "Processing bcc000005.bmp:   4%|▎         | 11/300 [00:00<00:04, 63.15 Samples/s] "
     ]
    },
    {
     "name": "stdout",
     "output_type": "stream",
     "text": [
      "Initialised with 26 image(s) found.\n",
      "Output directory set to /home/ayon/IsolatedTest_New/15/1."
     ]
    },
    {
     "name": "stderr",
     "output_type": "stream",
     "text": [
      "Processing bcc000021.bmp:   4%|▍         | 13/300 [00:00<00:04, 66.29 Samples/s] "
     ]
    },
    {
     "name": "stdout",
     "output_type": "stream",
     "text": [
      "Initialised with 32 image(s) found.\n",
      "Output directory set to /home/ayon/IsolatedTest_New/15/2."
     ]
    },
    {
     "name": "stderr",
     "output_type": "stream",
     "text": [
      "Processing bcc000009.bmp:   5%|▍         | 14/300 [00:00<00:03, 73.74 Samples/s]  "
     ]
    },
    {
     "name": "stdout",
     "output_type": "stream",
     "text": [
      "Initialised with 26 image(s) found.\n",
      "Output directory set to /home/ayon/IsolatedTest_New/150/1."
     ]
    },
    {
     "name": "stderr",
     "output_type": "stream",
     "text": [
      "Processing bcc000023.bmp:   5%|▌         | 15/300 [00:00<00:03, 89.18 Samples/s] "
     ]
    },
    {
     "name": "stdout",
     "output_type": "stream",
     "text": [
      "Initialised with 25 image(s) found.\n",
      "Output directory set to /home/ayon/IsolatedTest_New/150/2."
     ]
    },
    {
     "name": "stderr",
     "output_type": "stream",
     "text": [
      "Processing bcc000035.bmp:  15%|█▍        | 22/150 [00:00<00:01, 119.28 Samples/s]"
     ]
    },
    {
     "name": "stdout",
     "output_type": "stream",
     "text": [
      "Initialised with 44 image(s) found.\n",
      "Output directory set to /home/ayon/IsolatedTest_New/151."
     ]
    },
    {
     "name": "stderr",
     "output_type": "stream",
     "text": [
      "Processing bcc000010.bmp:   7%|▋         | 10/150 [00:00<00:02, 58.37 Samples/s] "
     ]
    },
    {
     "name": "stdout",
     "output_type": "stream",
     "text": [
      "Initialised with 45 image(s) found.\n",
      "Output directory set to /home/ayon/IsolatedTest_New/152."
     ]
    },
    {
     "name": "stderr",
     "output_type": "stream",
     "text": [
      "Processing bcc000020.bmp:   6%|▌         | 9/150 [00:00<00:02, 68.22 Samples/s]  "
     ]
    },
    {
     "name": "stdout",
     "output_type": "stream",
     "text": [
      "Initialised with 41 image(s) found.\n",
      "Output directory set to /home/ayon/IsolatedTest_New/153."
     ]
    },
    {
     "name": "stderr",
     "output_type": "stream",
     "text": [
      "Processing bcc000010.bmp:   7%|▋         | 10/150 [00:00<00:02, 57.66 Samples/s] "
     ]
    },
    {
     "name": "stdout",
     "output_type": "stream",
     "text": [
      "Initialised with 47 image(s) found.\n",
      "Output directory set to /home/ayon/IsolatedTest_New/154."
     ]
    },
    {
     "name": "stderr",
     "output_type": "stream",
     "text": [
      "Processing bcc000005.bmp:   9%|▊         | 13/150 [00:00<00:01, 72.91 Samples/s] "
     ]
    },
    {
     "name": "stdout",
     "output_type": "stream",
     "text": [
      "Initialised with 49 image(s) found.\n",
      "Output directory set to /home/ayon/IsolatedTest_New/155."
     ]
    },
    {
     "name": "stderr",
     "output_type": "stream",
     "text": [
      "Processing bcc000023.bmp:  15%|█▍        | 22/150 [00:00<00:01, 126.98 Samples/s]"
     ]
    },
    {
     "name": "stdout",
     "output_type": "stream",
     "text": [
      "Initialised with 48 image(s) found.\n",
      "Output directory set to /home/ayon/IsolatedTest_New/156."
     ]
    },
    {
     "name": "stderr",
     "output_type": "stream",
     "text": [
      "Processing bcc000026.bmp:  12%|█▏        | 18/150 [00:00<00:01, 118.99 Samples/s]"
     ]
    },
    {
     "name": "stdout",
     "output_type": "stream",
     "text": [
      "Initialised with 49 image(s) found.\n",
      "Output directory set to /home/ayon/IsolatedTest_New/157."
     ]
    },
    {
     "name": "stderr",
     "output_type": "stream",
     "text": [
      "Processing bcc000036.bmp:  10%|█         | 15/150 [00:00<00:01, 84.09 Samples/s] "
     ]
    },
    {
     "name": "stdout",
     "output_type": "stream",
     "text": [
      "Initialised with 50 image(s) found.\n",
      "Output directory set to /home/ayon/IsolatedTest_New/158."
     ]
    },
    {
     "name": "stderr",
     "output_type": "stream",
     "text": [
      "Processing bcc000007.bmp:   7%|▋         | 11/150 [00:00<00:02, 55.25 Samples/s] "
     ]
    },
    {
     "name": "stdout",
     "output_type": "stream",
     "text": [
      "Initialised with 48 image(s) found.\n",
      "Output directory set to /home/ayon/IsolatedTest_New/159."
     ]
    },
    {
     "name": "stderr",
     "output_type": "stream",
     "text": [
      "Processing bcc000009.bmp:  15%|█▍        | 22/150 [00:00<00:01, 115.82 Samples/s]"
     ]
    },
    {
     "name": "stdout",
     "output_type": "stream",
     "text": [
      "Initialised with 52 image(s) found.\n",
      "Output directory set to /home/ayon/IsolatedTest_New/16."
     ]
    },
    {
     "name": "stderr",
     "output_type": "stream",
     "text": [
      "Processing bcc000044.bmp:  11%|█▏        | 17/150 [00:00<00:01, 77.61 Samples/s]  "
     ]
    },
    {
     "name": "stdout",
     "output_type": "stream",
     "text": [
      "Initialised with 50 image(s) found.\n",
      "Output directory set to /home/ayon/IsolatedTest_New/160."
     ]
    },
    {
     "name": "stderr",
     "output_type": "stream",
     "text": [
      "Processing bcc000049.bmp:  13%|█▎        | 20/150 [00:00<00:01, 115.51 Samples/s]"
     ]
    },
    {
     "name": "stdout",
     "output_type": "stream",
     "text": [
      "Initialised with 51 image(s) found.\n",
      "Output directory set to /home/ayon/IsolatedTest_New/161."
     ]
    },
    {
     "name": "stderr",
     "output_type": "stream",
     "text": [
      "Processing bcc000007.bmp:   8%|▊         | 12/150 [00:00<00:02, 68.62 Samples/s] "
     ]
    },
    {
     "name": "stdout",
     "output_type": "stream",
     "text": [
      "Initialised with 52 image(s) found.\n",
      "Output directory set to /home/ayon/IsolatedTest_New/162."
     ]
    },
    {
     "name": "stderr",
     "output_type": "stream",
     "text": [
      "Processing bcc000047.bmp:  10%|█         | 15/150 [00:00<00:01, 74.52 Samples/s] "
     ]
    },
    {
     "name": "stdout",
     "output_type": "stream",
     "text": [
      "Initialised with 56 image(s) found.\n",
      "Output directory set to /home/ayon/IsolatedTest_New/163."
     ]
    },
    {
     "name": "stderr",
     "output_type": "stream",
     "text": [
      "Processing bcc000005.bmp:   9%|▉         | 14/150 [00:00<00:01, 98.08 Samples/s] "
     ]
    },
    {
     "name": "stdout",
     "output_type": "stream",
     "text": [
      "Initialised with 58 image(s) found.\n",
      "Output directory set to /home/ayon/IsolatedTest_New/164."
     ]
    },
    {
     "name": "stderr",
     "output_type": "stream",
     "text": [
      "Processing bcc000005.bmp:   8%|▊         | 12/150 [00:00<00:01, 69.51 Samples/s] "
     ]
    },
    {
     "name": "stdout",
     "output_type": "stream",
     "text": [
      "Initialised with 48 image(s) found.\n",
      "Output directory set to /home/ayon/IsolatedTest_New/165."
     ]
    },
    {
     "name": "stderr",
     "output_type": "stream",
     "text": [
      "Processing bcc000005.bmp:   9%|▊         | 13/150 [00:00<00:01, 79.09 Samples/s] "
     ]
    },
    {
     "name": "stdout",
     "output_type": "stream",
     "text": [
      "Initialised with 51 image(s) found.\n",
      "Output directory set to /home/ayon/IsolatedTest_New/166."
     ]
    },
    {
     "name": "stderr",
     "output_type": "stream",
     "text": [
      "Processing bcc000047.bmp:  10%|█         | 15/150 [00:00<00:01, 88.11 Samples/s] "
     ]
    },
    {
     "name": "stdout",
     "output_type": "stream",
     "text": [
      "Initialised with 54 image(s) found.\n",
      "Output directory set to /home/ayon/IsolatedTest_New/167."
     ]
    },
    {
     "name": "stderr",
     "output_type": "stream",
     "text": [
      "Processing bcc000005.bmp:   9%|▊         | 13/150 [00:00<00:01, 77.36 Samples/s] "
     ]
    },
    {
     "name": "stdout",
     "output_type": "stream",
     "text": [
      "Initialised with 49 image(s) found.\n",
      "Output directory set to /home/ayon/IsolatedTest_New/168."
     ]
    },
    {
     "name": "stderr",
     "output_type": "stream",
     "text": [
      "Processing bcc000036.bmp:  11%|█         | 16/150 [00:00<00:01, 99.12 Samples/s] "
     ]
    },
    {
     "name": "stdout",
     "output_type": "stream",
     "text": [
      "Initialised with 54 image(s) found.\n",
      "Output directory set to /home/ayon/IsolatedTest_New/169."
     ]
    },
    {
     "name": "stderr",
     "output_type": "stream",
     "text": [
      "Processing bcc000049.bmp:  13%|█▎        | 20/150 [00:00<00:01, 104.60 Samples/s]"
     ]
    },
    {
     "name": "stdout",
     "output_type": "stream",
     "text": [
      "Initialised with 51 image(s) found.\n",
      "Output directory set to /home/ayon/IsolatedTest_New/17."
     ]
    },
    {
     "name": "stderr",
     "output_type": "stream",
     "text": [
      "Processing bcc000007.bmp:   9%|▊         | 13/150 [00:00<00:02, 65.14 Samples/s] "
     ]
    },
    {
     "name": "stdout",
     "output_type": "stream",
     "text": [
      "Initialised with 54 image(s) found.\n",
      "Output directory set to /home/ayon/IsolatedTest_New/170."
     ]
    },
    {
     "name": "stderr",
     "output_type": "stream",
     "text": [
      "Processing bcc000047.bmp:   9%|▊         | 13/150 [00:00<00:01, 80.77 Samples/s] "
     ]
    },
    {
     "name": "stdout",
     "output_type": "stream",
     "text": [
      "Initialised with 48 image(s) found.\n",
      "Output directory set to /home/ayon/IsolatedTest_New/171."
     ]
    },
    {
     "name": "stderr",
     "output_type": "stream",
     "text": [
      "Processing bcc000003.bmp:  13%|█▎        | 20/150 [00:00<00:01, 97.15 Samples/s] "
     ]
    },
    {
     "name": "stdout",
     "output_type": "stream",
     "text": [
      "Initialised with 40 image(s) found.\n",
      "Output directory set to /home/ayon/IsolatedTest_New/18."
     ]
    },
    {
     "name": "stderr",
     "output_type": "stream",
     "text": [
      "Processing bcc000041.bmp:  13%|█▎        | 19/150 [00:00<00:01, 113.31 Samples/s]"
     ]
    },
    {
     "name": "stdout",
     "output_type": "stream",
     "text": [
      "Initialised with 52 image(s) found.\n",
      "Output directory set to /home/ayon/IsolatedTest_New/19."
     ]
    },
    {
     "name": "stderr",
     "output_type": "stream",
     "text": [
      "Processing bcc000023.bmp:  13%|█▎        | 20/150 [00:00<00:01, 102.96 Samples/s]"
     ]
    },
    {
     "name": "stdout",
     "output_type": "stream",
     "text": [
      "Initialised with 43 image(s) found.\n",
      "Output directory set to /home/ayon/IsolatedTest_New/2."
     ]
    },
    {
     "name": "stderr",
     "output_type": "stream",
     "text": [
      "Processing bcc000022.bmp:  11%|█▏        | 17/150 [00:00<00:01, 88.40 Samples/s] "
     ]
    },
    {
     "name": "stdout",
     "output_type": "stream",
     "text": [
      "Initialised with 44 image(s) found.\n",
      "Output directory set to /home/ayon/IsolatedTest_New/20."
     ]
    },
    {
     "name": "stderr",
     "output_type": "stream",
     "text": [
      "Processing bcc000049.bmp:  13%|█▎        | 20/150 [00:00<00:01, 104.94 Samples/s]"
     ]
    },
    {
     "name": "stdout",
     "output_type": "stream",
     "text": [
      "Initialised with 50 image(s) found.\n",
      "Output directory set to /home/ayon/IsolatedTest_New/21."
     ]
    },
    {
     "name": "stderr",
     "output_type": "stream",
     "text": [
      "Processing bcc000035.bmp:  19%|█▊        | 28/150 [00:00<00:00, 177.51 Samples/s] "
     ]
    },
    {
     "name": "stdout",
     "output_type": "stream",
     "text": [
      "Initialised with 54 image(s) found.\n",
      "Output directory set to /home/ayon/IsolatedTest_New/22."
     ]
    },
    {
     "name": "stderr",
     "output_type": "stream",
     "text": [
      "Processing bcc000041.bmp:  13%|█▎        | 19/150 [00:00<00:01, 91.77 Samples/s] "
     ]
    },
    {
     "name": "stdout",
     "output_type": "stream",
     "text": [
      "Initialised with 51 image(s) found.\n",
      "Output directory set to /home/ayon/IsolatedTest_New/23."
     ]
    },
    {
     "name": "stderr",
     "output_type": "stream",
     "text": [
      "Processing bcc000036.bmp:  10%|█         | 15/150 [00:00<00:01, 100.23 Samples/s]"
     ]
    },
    {
     "name": "stdout",
     "output_type": "stream",
     "text": [
      "Initialised with 51 image(s) found.\n",
      "Output directory set to /home/ayon/IsolatedTest_New/24."
     ]
    },
    {
     "name": "stderr",
     "output_type": "stream",
     "text": [
      "Processing bcc000026.bmp:  12%|█▏        | 18/150 [00:00<00:01, 85.41 Samples/s] "
     ]
    },
    {
     "name": "stdout",
     "output_type": "stream",
     "text": [
      "Initialised with 49 image(s) found.\n",
      "Output directory set to /home/ayon/IsolatedTest_New/25."
     ]
    },
    {
     "name": "stderr",
     "output_type": "stream",
     "text": [
      "Processing bcc000004.bmp:  12%|█▏        | 18/150 [00:00<00:01, 122.57 Samples/s]"
     ]
    },
    {
     "name": "stdout",
     "output_type": "stream",
     "text": [
      "Initialised with 41 image(s) found.\n",
      "Output directory set to /home/ayon/IsolatedTest_New/26."
     ]
    },
    {
     "name": "stderr",
     "output_type": "stream",
     "text": [
      "Processing bcc000021.bmp:  11%|█         | 16/150 [00:00<00:01, 89.22 Samples/s] "
     ]
    },
    {
     "name": "stdout",
     "output_type": "stream",
     "text": [
      "Initialised with 51 image(s) found.\n",
      "Output directory set to /home/ayon/IsolatedTest_New/27."
     ]
    },
    {
     "name": "stderr",
     "output_type": "stream",
     "text": [
      "Processing bcc000026.bmp:  12%|█▏        | 18/150 [00:00<00:01, 83.75 Samples/s] "
     ]
    },
    {
     "name": "stdout",
     "output_type": "stream",
     "text": [
      "Initialised with 51 image(s) found.\n",
      "Output directory set to /home/ayon/IsolatedTest_New/28."
     ]
    },
    {
     "name": "stderr",
     "output_type": "stream",
     "text": [
      "Processing bcc000022.bmp:   5%|▌         | 15/300 [00:00<00:03, 81.67 Samples/s] "
     ]
    },
    {
     "name": "stdout",
     "output_type": "stream",
     "text": [
      "Initialised with 28 image(s) found.\n",
      "Output directory set to /home/ayon/IsolatedTest_New/29/1."
     ]
    },
    {
     "name": "stderr",
     "output_type": "stream",
     "text": [
      "Processing bcc000023.bmp:   5%|▌         | 16/300 [00:00<00:04, 70.81 Samples/s] "
     ]
    },
    {
     "name": "stdout",
     "output_type": "stream",
     "text": [
      "Initialised with 26 image(s) found.\n",
      "Output directory set to /home/ayon/IsolatedTest_New/29/2."
     ]
    },
    {
     "name": "stderr",
     "output_type": "stream",
     "text": [
      "Processing bcc000004.bmp:  15%|█▍        | 22/150 [00:00<00:00, 134.66 Samples/s]"
     ]
    },
    {
     "name": "stdout",
     "output_type": "stream",
     "text": [
      "Initialised with 49 image(s) found.\n",
      "Output directory set to /home/ayon/IsolatedTest_New/3."
     ]
    },
    {
     "name": "stderr",
     "output_type": "stream",
     "text": [
      "Processing bcc000023.bmp:   5%|▌         | 16/300 [00:00<00:02, 98.31 Samples/s] "
     ]
    },
    {
     "name": "stdout",
     "output_type": "stream",
     "text": [
      "Initialised with 26 image(s) found.\n",
      "Output directory set to /home/ayon/IsolatedTest_New/30/1."
     ]
    },
    {
     "name": "stderr",
     "output_type": "stream",
     "text": [
      "Processing bcc000002.bmp:   7%|▋         | 21/300 [00:00<00:02, 122.77 Samples/s]"
     ]
    },
    {
     "name": "stdout",
     "output_type": "stream",
     "text": [
      "Initialised with 33 image(s) found.\n",
      "Output directory set to /home/ayon/IsolatedTest_New/30/2."
     ]
    },
    {
     "name": "stderr",
     "output_type": "stream",
     "text": [
      "Processing bcc000009.bmp:  11%|█▏        | 17/150 [00:00<00:01, 96.31 Samples/s] "
     ]
    },
    {
     "name": "stdout",
     "output_type": "stream",
     "text": [
      "Initialised with 41 image(s) found.\n",
      "Output directory set to /home/ayon/IsolatedTest_New/31."
     ]
    },
    {
     "name": "stderr",
     "output_type": "stream",
     "text": [
      "Processing bcc000022.bmp:  11%|█▏        | 17/150 [00:00<00:01, 97.31 Samples/s] "
     ]
    },
    {
     "name": "stdout",
     "output_type": "stream",
     "text": [
      "Initialised with 42 image(s) found.\n",
      "Output directory set to /home/ayon/IsolatedTest_New/32."
     ]
    },
    {
     "name": "stderr",
     "output_type": "stream",
     "text": [
      "Processing bcc000005.bmp:   9%|▉         | 14/150 [00:00<00:01, 87.84 Samples/s] "
     ]
    },
    {
     "name": "stdout",
     "output_type": "stream",
     "text": [
      "Initialised with 53 image(s) found.\n",
      "Output directory set to /home/ayon/IsolatedTest_New/33."
     ]
    },
    {
     "name": "stderr",
     "output_type": "stream",
     "text": [
      "Processing bcc000021.bmp:   9%|▉         | 14/150 [00:00<00:01, 74.10 Samples/s] "
     ]
    },
    {
     "name": "stdout",
     "output_type": "stream",
     "text": [
      "Initialised with 44 image(s) found.\n",
      "Output directory set to /home/ayon/IsolatedTest_New/34."
     ]
    },
    {
     "name": "stderr",
     "output_type": "stream",
     "text": [
      "Processing bcc000026.bmp:  13%|█▎        | 19/150 [00:00<00:01, 129.47 Samples/s]"
     ]
    },
    {
     "name": "stdout",
     "output_type": "stream",
     "text": [
      "Initialised with 55 image(s) found.\n",
      "Output directory set to /home/ayon/IsolatedTest_New/35."
     ]
    },
    {
     "name": "stderr",
     "output_type": "stream",
     "text": [
      "Processing bcc000044.bmp:  11%|█▏        | 17/150 [00:00<00:01, 102.99 Samples/s]"
     ]
    },
    {
     "name": "stdout",
     "output_type": "stream",
     "text": [
      "Initialised with 52 image(s) found.\n",
      "Output directory set to /home/ayon/IsolatedTest_New/36."
     ]
    },
    {
     "name": "stderr",
     "output_type": "stream",
     "text": [
      "Processing bcc000044.bmp:  11%|█▏        | 17/150 [00:00<00:01, 117.83 Samples/s]"
     ]
    },
    {
     "name": "stdout",
     "output_type": "stream",
     "text": [
      "Initialised with 52 image(s) found.\n",
      "Output directory set to /home/ayon/IsolatedTest_New/37."
     ]
    },
    {
     "name": "stderr",
     "output_type": "stream",
     "text": [
      "Processing bcc000023.bmp:   5%|▌         | 15/300 [00:00<00:03, 83.58 Samples/s]  "
     ]
    },
    {
     "name": "stdout",
     "output_type": "stream",
     "text": [
      "Initialised with 25 image(s) found.\n",
      "Output directory set to /home/ayon/IsolatedTest_New/38/1."
     ]
    },
    {
     "name": "stderr",
     "output_type": "stream",
     "text": [
      "Processing bcc000041.bmp:   6%|▌         | 17/300 [00:00<00:03, 82.34 Samples/s] "
     ]
    },
    {
     "name": "stdout",
     "output_type": "stream",
     "text": [
      "Initialised with 47 image(s) found.\n",
      "Output directory set to /home/ayon/IsolatedTest_New/38/2."
     ]
    },
    {
     "name": "stderr",
     "output_type": "stream",
     "text": [
      "Processing bcc000002.bmp:  16%|█▌        | 24/150 [00:00<00:00, 129.67 Samples/s] "
     ]
    },
    {
     "name": "stdout",
     "output_type": "stream",
     "text": [
      "Initialised with 40 image(s) found.\n",
      "Output directory set to /home/ayon/IsolatedTest_New/39."
     ]
    },
    {
     "name": "stderr",
     "output_type": "stream",
     "text": [
      "Processing bcc000041.bmp:  13%|█▎        | 20/150 [00:00<00:01, 94.34 Samples/s] "
     ]
    },
    {
     "name": "stdout",
     "output_type": "stream",
     "text": [
      "Initialised with 53 image(s) found.\n",
      "Output directory set to /home/ayon/IsolatedTest_New/4."
     ]
    },
    {
     "name": "stderr",
     "output_type": "stream",
     "text": [
      "Processing bcc000003.bmp:   6%|▋         | 19/300 [00:00<00:02, 103.36 Samples/s]"
     ]
    },
    {
     "name": "stdout",
     "output_type": "stream",
     "text": [
      "Initialised with 29 image(s) found.\n",
      "Output directory set to /home/ayon/IsolatedTest_New/40/1."
     ]
    },
    {
     "name": "stderr",
     "output_type": "stream",
     "text": [
      "Processing bcc000017.bmp:   6%|▋         | 19/300 [00:00<00:02, 105.63 Samples/s] "
     ]
    },
    {
     "name": "stdout",
     "output_type": "stream",
     "text": [
      "Initialised with 25 image(s) found.\n",
      "Output directory set to /home/ayon/IsolatedTest_New/40/2."
     ]
    },
    {
     "name": "stderr",
     "output_type": "stream",
     "text": [
      "Processing bcc000047.bmp:   9%|▉         | 14/150 [00:00<00:01, 82.38 Samples/s] "
     ]
    },
    {
     "name": "stdout",
     "output_type": "stream",
     "text": [
      "Initialised with 50 image(s) found.\n",
      "Output directory set to /home/ayon/IsolatedTest_New/41."
     ]
    },
    {
     "name": "stderr",
     "output_type": "stream",
     "text": [
      "Processing bcc000022.bmp:  14%|█▍        | 21/150 [00:00<00:01, 105.68 Samples/s]"
     ]
    },
    {
     "name": "stdout",
     "output_type": "stream",
     "text": [
      "Initialised with 51 image(s) found.\n",
      "Output directory set to /home/ayon/IsolatedTest_New/42."
     ]
    },
    {
     "name": "stderr",
     "output_type": "stream",
     "text": [
      "Processing bcc000002.bmp:   6%|▌         | 18/300 [00:00<00:02, 106.63 Samples/s]"
     ]
    },
    {
     "name": "stdout",
     "output_type": "stream",
     "text": [
      "Initialised with 26 image(s) found.\n",
      "Output directory set to /home/ayon/IsolatedTest_New/43/1."
     ]
    },
    {
     "name": "stderr",
     "output_type": "stream",
     "text": [
      "Processing bcc000023.bmp:   6%|▌         | 18/300 [00:00<00:03, 78.02 Samples/s] "
     ]
    },
    {
     "name": "stdout",
     "output_type": "stream",
     "text": [
      "Initialised with 30 image(s) found.\n",
      "Output directory set to /home/ayon/IsolatedTest_New/43/2."
     ]
    },
    {
     "name": "stderr",
     "output_type": "stream",
     "text": [
      "Processing bcc000026.bmp:  10%|█         | 15/150 [00:00<00:01, 86.53 Samples/s] "
     ]
    },
    {
     "name": "stdout",
     "output_type": "stream",
     "text": [
      "Initialised with 40 image(s) found.\n",
      "Output directory set to /home/ayon/IsolatedTest_New/44."
     ]
    },
    {
     "name": "stderr",
     "output_type": "stream",
     "text": [
      "Processing bcc000022.bmp:  14%|█▍        | 21/150 [00:00<00:01, 102.27 Samples/s]"
     ]
    },
    {
     "name": "stdout",
     "output_type": "stream",
     "text": [
      "Initialised with 50 image(s) found.\n",
      "Output directory set to /home/ayon/IsolatedTest_New/45."
     ]
    },
    {
     "name": "stderr",
     "output_type": "stream",
     "text": [
      "Processing bcc000049.bmp:  13%|█▎        | 20/150 [00:00<00:01, 104.45 Samples/s]"
     ]
    },
    {
     "name": "stdout",
     "output_type": "stream",
     "text": [
      "Initialised with 50 image(s) found.\n",
      "Output directory set to /home/ayon/IsolatedTest_New/46."
     ]
    },
    {
     "name": "stderr",
     "output_type": "stream",
     "text": [
      "Processing bcc000009.bmp:  15%|█▍        | 22/150 [00:00<00:00, 129.25 Samples/s]"
     ]
    },
    {
     "name": "stdout",
     "output_type": "stream",
     "text": [
      "Initialised with 51 image(s) found.\n",
      "Output directory set to /home/ayon/IsolatedTest_New/47."
     ]
    },
    {
     "name": "stderr",
     "output_type": "stream",
     "text": [
      "Processing bcc000044.bmp:  11%|█▏        | 17/150 [00:00<00:01, 87.46 Samples/s]  "
     ]
    },
    {
     "name": "stdout",
     "output_type": "stream",
     "text": [
      "Initialised with 50 image(s) found.\n",
      "Output directory set to /home/ayon/IsolatedTest_New/48."
     ]
    },
    {
     "name": "stderr",
     "output_type": "stream",
     "text": [
      "Processing bcc000041.bmp:  13%|█▎        | 19/150 [00:00<00:01, 104.91 Samples/s]"
     ]
    },
    {
     "name": "stdout",
     "output_type": "stream",
     "text": [
      "Initialised with 50 image(s) found.\n",
      "Output directory set to /home/ayon/IsolatedTest_New/49."
     ]
    },
    {
     "name": "stderr",
     "output_type": "stream",
     "text": [
      "Processing bcc000045.bmp:  17%|█▋        | 26/150 [00:00<00:00, 148.37 Samples/s]"
     ]
    },
    {
     "name": "stdout",
     "output_type": "stream",
     "text": [
      "Initialised with 51 image(s) found.\n",
      "Output directory set to /home/ayon/IsolatedTest_New/5."
     ]
    },
    {
     "name": "stderr",
     "output_type": "stream",
     "text": [
      "Processing bcc000009.bmp:  13%|█▎        | 19/150 [00:00<00:01, 109.84 Samples/s] "
     ]
    },
    {
     "name": "stdout",
     "output_type": "stream",
     "text": [
      "Initialised with 45 image(s) found.\n",
      "Output directory set to /home/ayon/IsolatedTest_New/50."
     ]
    },
    {
     "name": "stderr",
     "output_type": "stream",
     "text": [
      "Processing bcc000023.bmp:  16%|█▌        | 24/150 [00:00<00:00, 129.99 Samples/s]"
     ]
    },
    {
     "name": "stdout",
     "output_type": "stream",
     "text": [
      "Initialised with 52 image(s) found.\n",
      "Output directory set to /home/ayon/IsolatedTest_New/51."
     ]
    },
    {
     "name": "stderr",
     "output_type": "stream",
     "text": [
      "Processing bcc000026.bmp:  12%|█▏        | 18/150 [00:00<00:01, 97.05 Samples/s] "
     ]
    },
    {
     "name": "stdout",
     "output_type": "stream",
     "text": [
      "Initialised with 51 image(s) found.\n",
      "Output directory set to /home/ayon/IsolatedTest_New/52."
     ]
    },
    {
     "name": "stderr",
     "output_type": "stream",
     "text": [
      "Processing bcc000021.bmp:  11%|█         | 16/150 [00:00<00:01, 88.04 Samples/s] "
     ]
    },
    {
     "name": "stdout",
     "output_type": "stream",
     "text": [
      "Initialised with 51 image(s) found.\n",
      "Output directory set to /home/ayon/IsolatedTest_New/53."
     ]
    },
    {
     "name": "stderr",
     "output_type": "stream",
     "text": [
      "Processing bcc000022.bmp:  11%|█▏        | 17/150 [00:00<00:01, 107.81 Samples/s]"
     ]
    },
    {
     "name": "stdout",
     "output_type": "stream",
     "text": [
      "Initialised with 43 image(s) found.\n",
      "Output directory set to /home/ayon/IsolatedTest_New/54."
     ]
    },
    {
     "name": "stderr",
     "output_type": "stream",
     "text": [
      "Processing bcc000047.bmp:   9%|▉         | 14/150 [00:00<00:01, 97.62 Samples/s] "
     ]
    },
    {
     "name": "stdout",
     "output_type": "stream",
     "text": [
      "Initialised with 52 image(s) found.\n",
      "Output directory set to /home/ayon/IsolatedTest_New/55."
     ]
    },
    {
     "name": "stderr",
     "output_type": "stream",
     "text": [
      "Processing bcc000004.bmp:  13%|█▎        | 20/150 [00:00<00:01, 103.29 Samples/s]"
     ]
    },
    {
     "name": "stdout",
     "output_type": "stream",
     "text": [
      "Initialised with 47 image(s) found.\n",
      "Output directory set to /home/ayon/IsolatedTest_New/56."
     ]
    },
    {
     "name": "stderr",
     "output_type": "stream",
     "text": [
      "Processing bcc000021.bmp:  11%|█         | 16/150 [00:00<00:01, 119.47 Samples/s]"
     ]
    },
    {
     "name": "stdout",
     "output_type": "stream",
     "text": [
      "Initialised with 50 image(s) found.\n",
      "Output directory set to /home/ayon/IsolatedTest_New/57."
     ]
    },
    {
     "name": "stderr",
     "output_type": "stream",
     "text": [
      "Processing bcc000003.bmp:  13%|█▎        | 20/150 [00:00<00:01, 129.13 Samples/s]"
     ]
    },
    {
     "name": "stdout",
     "output_type": "stream",
     "text": [
      "Initialised with 41 image(s) found.\n",
      "Output directory set to /home/ayon/IsolatedTest_New/58."
     ]
    },
    {
     "name": "stderr",
     "output_type": "stream",
     "text": [
      "Processing bcc000003.bmp:  13%|█▎        | 20/150 [00:00<00:01, 98.60 Samples/s] "
     ]
    },
    {
     "name": "stdout",
     "output_type": "stream",
     "text": [
      "Initialised with 40 image(s) found.\n",
      "Output directory set to /home/ayon/IsolatedTest_New/59."
     ]
    },
    {
     "name": "stderr",
     "output_type": "stream",
     "text": [
      "Processing bcc000026.bmp:  12%|█▏        | 18/150 [00:00<00:01, 106.08 Samples/s]"
     ]
    },
    {
     "name": "stdout",
     "output_type": "stream",
     "text": [
      "Initialised with 49 image(s) found.\n",
      "Output directory set to /home/ayon/IsolatedTest_New/6."
     ]
    },
    {
     "name": "stderr",
     "output_type": "stream",
     "text": [
      "Processing bcc000003.bmp:   6%|▌         | 17/300 [00:00<00:03, 75.70 Samples/s] "
     ]
    },
    {
     "name": "stdout",
     "output_type": "stream",
     "text": [
      "Initialised with 26 image(s) found.\n",
      "Output directory set to /home/ayon/IsolatedTest_New/60/1."
     ]
    },
    {
     "name": "stderr",
     "output_type": "stream",
     "text": [
      "Processing bcc000018.bmp:   8%|▊         | 23/300 [00:00<00:02, 130.66 Samples/s]"
     ]
    },
    {
     "name": "stdout",
     "output_type": "stream",
     "text": [
      "Initialised with 28 image(s) found.\n",
      "Output directory set to /home/ayon/IsolatedTest_New/60/2."
     ]
    },
    {
     "name": "stderr",
     "output_type": "stream",
     "text": [
      "Processing bcc000036.bmp:  10%|█         | 15/150 [00:00<00:01, 72.33 Samples/s] "
     ]
    },
    {
     "name": "stdout",
     "output_type": "stream",
     "text": [
      "Initialised with 51 image(s) found.\n",
      "Output directory set to /home/ayon/IsolatedTest_New/61."
     ]
    },
    {
     "name": "stderr",
     "output_type": "stream",
     "text": [
      "Processing bcc000007.bmp:   7%|▋         | 11/150 [00:00<00:02, 63.33 Samples/s] "
     ]
    },
    {
     "name": "stdout",
     "output_type": "stream",
     "text": [
      "Initialised with 42 image(s) found.\n",
      "Output directory set to /home/ayon/IsolatedTest_New/62."
     ]
    },
    {
     "name": "stderr",
     "output_type": "stream",
     "text": [
      "Processing bcc000023.bmp:   5%|▌         | 15/300 [00:00<00:03, 89.96 Samples/s] "
     ]
    },
    {
     "name": "stdout",
     "output_type": "stream",
     "text": [
      "Initialised with 25 image(s) found.\n",
      "Output directory set to /home/ayon/IsolatedTest_New/63/1."
     ]
    },
    {
     "name": "stderr",
     "output_type": "stream",
     "text": [
      "Processing bcc000015.bmp:   7%|▋         | 21/300 [00:00<00:02, 101.61 Samples/s]"
     ]
    },
    {
     "name": "stdout",
     "output_type": "stream",
     "text": [
      "Initialised with 25 image(s) found.\n",
      "Output directory set to /home/ayon/IsolatedTest_New/63/2."
     ]
    },
    {
     "name": "stderr",
     "output_type": "stream",
     "text": [
      "Processing bcc000036.bmp:  10%|█         | 15/150 [00:00<00:01, 88.75 Samples/s] "
     ]
    },
    {
     "name": "stdout",
     "output_type": "stream",
     "text": [
      "Initialised with 50 image(s) found.\n",
      "Output directory set to /home/ayon/IsolatedTest_New/64."
     ]
    },
    {
     "name": "stderr",
     "output_type": "stream",
     "text": [
      "Processing bcc000044.bmp:  11%|█▏        | 17/150 [00:00<00:01, 98.54 Samples/s] "
     ]
    },
    {
     "name": "stdout",
     "output_type": "stream",
     "text": [
      "Initialised with 50 image(s) found.\n",
      "Output directory set to /home/ayon/IsolatedTest_New/65."
     ]
    },
    {
     "name": "stderr",
     "output_type": "stream",
     "text": [
      "Processing bcc000047.bmp:  10%|█         | 15/150 [00:00<00:01, 82.91 Samples/s] "
     ]
    },
    {
     "name": "stdout",
     "output_type": "stream",
     "text": [
      "Initialised with 58 image(s) found.\n",
      "Output directory set to /home/ayon/IsolatedTest_New/66."
     ]
    },
    {
     "name": "stderr",
     "output_type": "stream",
     "text": [
      "Processing bcc000003.bmp:   6%|▋         | 19/300 [00:00<00:03, 77.43 Samples/s] "
     ]
    },
    {
     "name": "stdout",
     "output_type": "stream",
     "text": [
      "Initialised with 35 image(s) found.\n",
      "Output directory set to /home/ayon/IsolatedTest_New/67/1."
     ]
    },
    {
     "name": "stderr",
     "output_type": "stream",
     "text": [
      "Processing bcc000003.bmp:   6%|▋         | 19/300 [00:00<00:02, 124.55 Samples/s]"
     ]
    },
    {
     "name": "stdout",
     "output_type": "stream",
     "text": [
      "Initialised with 31 image(s) found.\n",
      "Output directory set to /home/ayon/IsolatedTest_New/67/2."
     ]
    },
    {
     "name": "stderr",
     "output_type": "stream",
     "text": [
      "Processing bcc000047.bmp:   9%|▉         | 14/150 [00:00<00:01, 98.01 Samples/s]  "
     ]
    },
    {
     "name": "stdout",
     "output_type": "stream",
     "text": [
      "Initialised with 52 image(s) found.\n",
      "Output directory set to /home/ayon/IsolatedTest_New/68."
     ]
    },
    {
     "name": "stderr",
     "output_type": "stream",
     "text": [
      "Processing bcc000026.bmp:  12%|█▏        | 18/150 [00:00<00:01, 96.23 Samples/s] "
     ]
    },
    {
     "name": "stdout",
     "output_type": "stream",
     "text": [
      "Initialised with 51 image(s) found.\n",
      "Output directory set to /home/ayon/IsolatedTest_New/69."
     ]
    },
    {
     "name": "stderr",
     "output_type": "stream",
     "text": [
      "Processing bcc000044.bmp:  11%|█▏        | 17/150 [00:00<00:01, 109.26 Samples/s]"
     ]
    },
    {
     "name": "stdout",
     "output_type": "stream",
     "text": [
      "Initialised with 51 image(s) found.\n",
      "Output directory set to /home/ayon/IsolatedTest_New/7."
     ]
    },
    {
     "name": "stderr",
     "output_type": "stream",
     "text": [
      "Processing bcc000036.bmp:  11%|█         | 16/150 [00:00<00:01, 88.26 Samples/s]  "
     ]
    },
    {
     "name": "stdout",
     "output_type": "stream",
     "text": [
      "Initialised with 56 image(s) found.\n",
      "Output directory set to /home/ayon/IsolatedTest_New/70."
     ]
    },
    {
     "name": "stderr",
     "output_type": "stream",
     "text": [
      "Processing bcc000023.bmp:  14%|█▍        | 21/150 [00:00<00:01, 124.78 Samples/s]"
     ]
    },
    {
     "name": "stdout",
     "output_type": "stream",
     "text": [
      "Initialised with 46 image(s) found.\n",
      "Output directory set to /home/ayon/IsolatedTest_New/71."
     ]
    },
    {
     "name": "stderr",
     "output_type": "stream",
     "text": [
      "Processing bcc000009.bmp:  13%|█▎        | 19/150 [00:00<00:01, 99.86 Samples/s]  "
     ]
    },
    {
     "name": "stdout",
     "output_type": "stream",
     "text": [
      "Initialised with 45 image(s) found.\n",
      "Output directory set to /home/ayon/IsolatedTest_New/72."
     ]
    },
    {
     "name": "stderr",
     "output_type": "stream",
     "text": [
      "Processing bcc000026.bmp:  13%|█▎        | 19/150 [00:00<00:01, 105.02 Samples/s]"
     ]
    },
    {
     "name": "stdout",
     "output_type": "stream",
     "text": [
      "Initialised with 54 image(s) found.\n",
      "Output directory set to /home/ayon/IsolatedTest_New/73."
     ]
    },
    {
     "name": "stderr",
     "output_type": "stream",
     "text": [
      "Processing bcc000060.bmp:  11%|█         | 16/150 [00:00<00:01, 75.46 Samples/s] "
     ]
    },
    {
     "name": "stdout",
     "output_type": "stream",
     "text": [
      "Initialised with 64 image(s) found.\n",
      "Output directory set to /home/ayon/IsolatedTest_New/74."
     ]
    },
    {
     "name": "stderr",
     "output_type": "stream",
     "text": [
      "Processing bcc000004.bmp:   5%|▍         | 14/300 [00:00<00:03, 83.45 Samples/s] "
     ]
    },
    {
     "name": "stdout",
     "output_type": "stream",
     "text": [
      "Initialised with 25 image(s) found.\n",
      "Output directory set to /home/ayon/IsolatedTest_New/75/1."
     ]
    },
    {
     "name": "stderr",
     "output_type": "stream",
     "text": [
      "Processing bcc000022.bmp:   5%|▌         | 15/300 [00:00<00:02, 97.87 Samples/s] "
     ]
    },
    {
     "name": "stdout",
     "output_type": "stream",
     "text": [
      "Initialised with 30 image(s) found.\n",
      "Output directory set to /home/ayon/IsolatedTest_New/75/2."
     ]
    },
    {
     "name": "stderr",
     "output_type": "stream",
     "text": [
      "Processing bcc000023.bmp:  15%|█▍        | 22/150 [00:00<00:00, 131.09 Samples/s]"
     ]
    },
    {
     "name": "stdout",
     "output_type": "stream",
     "text": [
      "Initialised with 48 image(s) found.\n",
      "Output directory set to /home/ayon/IsolatedTest_New/76."
     ]
    },
    {
     "name": "stderr",
     "output_type": "stream",
     "text": [
      "Processing bcc000026.bmp:  12%|█▏        | 18/150 [00:00<00:01, 90.53 Samples/s] "
     ]
    },
    {
     "name": "stdout",
     "output_type": "stream",
     "text": [
      "Initialised with 51 image(s) found.\n",
      "Output directory set to /home/ayon/IsolatedTest_New/77."
     ]
    },
    {
     "name": "stderr",
     "output_type": "stream",
     "text": [
      "Processing bcc000021.bmp:  11%|█         | 16/150 [00:00<00:01, 83.67 Samples/s] "
     ]
    },
    {
     "name": "stdout",
     "output_type": "stream",
     "text": [
      "Initialised with 52 image(s) found.\n",
      "Output directory set to /home/ayon/IsolatedTest_New/78."
     ]
    },
    {
     "name": "stderr",
     "output_type": "stream",
     "text": [
      "Processing bcc000004.bmp:  12%|█▏        | 18/150 [00:00<00:01, 111.55 Samples/s]"
     ]
    },
    {
     "name": "stdout",
     "output_type": "stream",
     "text": [
      "Initialised with 40 image(s) found.\n",
      "Output directory set to /home/ayon/IsolatedTest_New/79."
     ]
    },
    {
     "name": "stderr",
     "output_type": "stream",
     "text": [
      "Processing bcc000022.bmp:  13%|█▎        | 20/150 [00:00<00:01, 99.67 Samples/s] "
     ]
    },
    {
     "name": "stdout",
     "output_type": "stream",
     "text": [
      "Initialised with 49 image(s) found.\n",
      "Output directory set to /home/ayon/IsolatedTest_New/8."
     ]
    },
    {
     "name": "stderr",
     "output_type": "stream",
     "text": [
      "Processing bcc000044.bmp:  10%|█         | 15/150 [00:00<00:01, 78.18 Samples/s] "
     ]
    },
    {
     "name": "stdout",
     "output_type": "stream",
     "text": [
      "Initialised with 45 image(s) found.\n",
      "Output directory set to /home/ayon/IsolatedTest_New/80."
     ]
    },
    {
     "name": "stderr",
     "output_type": "stream",
     "text": [
      "Processing bcc000049.bmp:  13%|█▎        | 20/150 [00:00<00:01, 91.51 Samples/s] "
     ]
    },
    {
     "name": "stdout",
     "output_type": "stream",
     "text": [
      "Initialised with 52 image(s) found.\n",
      "Output directory set to /home/ayon/IsolatedTest_New/81."
     ]
    },
    {
     "name": "stderr",
     "output_type": "stream",
     "text": [
      "Processing bcc000049.bmp:  13%|█▎        | 20/150 [00:00<00:01, 109.18 Samples/s]"
     ]
    },
    {
     "name": "stdout",
     "output_type": "stream",
     "text": [
      "Initialised with 51 image(s) found.\n",
      "Output directory set to /home/ayon/IsolatedTest_New/82."
     ]
    },
    {
     "name": "stderr",
     "output_type": "stream",
     "text": [
      "Processing bcc000021.bmp:  11%|█         | 16/150 [00:00<00:01, 92.37 Samples/s] "
     ]
    },
    {
     "name": "stdout",
     "output_type": "stream",
     "text": [
      "Initialised with 50 image(s) found.\n",
      "Output directory set to /home/ayon/IsolatedTest_New/83."
     ]
    },
    {
     "name": "stderr",
     "output_type": "stream",
     "text": [
      "Processing bcc000017.bmp:   6%|▋         | 19/300 [00:00<00:02, 104.35 Samples/s]"
     ]
    },
    {
     "name": "stdout",
     "output_type": "stream",
     "text": [
      "Initialised with 25 image(s) found.\n",
      "Output directory set to /home/ayon/IsolatedTest_New/84/1."
     ]
    },
    {
     "name": "stderr",
     "output_type": "stream",
     "text": [
      "Processing bcc000023.bmp:   6%|▌         | 18/300 [00:00<00:02, 104.80 Samples/s]"
     ]
    },
    {
     "name": "stdout",
     "output_type": "stream",
     "text": [
      "Initialised with 28 image(s) found.\n",
      "Output directory set to /home/ayon/IsolatedTest_New/84/2."
     ]
    },
    {
     "name": "stderr",
     "output_type": "stream",
     "text": [
      "Processing bcc000017.bmp:   7%|▋         | 20/300 [00:00<00:02, 97.63 Samples/s] "
     ]
    },
    {
     "name": "stdout",
     "output_type": "stream",
     "text": [
      "Initialised with 26 image(s) found.\n",
      "Output directory set to /home/ayon/IsolatedTest_New/85/1."
     ]
    },
    {
     "name": "stderr",
     "output_type": "stream",
     "text": [
      "Processing bcc000017.bmp:   6%|▋         | 19/300 [00:00<00:02, 118.72 Samples/s] "
     ]
    },
    {
     "name": "stdout",
     "output_type": "stream",
     "text": [
      "Initialised with 25 image(s) found.\n",
      "Output directory set to /home/ayon/IsolatedTest_New/85/2."
     ]
    },
    {
     "name": "stderr",
     "output_type": "stream",
     "text": [
      "Processing bcc000021.bmp:  11%|█         | 16/150 [00:00<00:01, 93.98 Samples/s]  "
     ]
    },
    {
     "name": "stdout",
     "output_type": "stream",
     "text": [
      "Initialised with 50 image(s) found.\n",
      "Output directory set to /home/ayon/IsolatedTest_New/86."
     ]
    },
    {
     "name": "stderr",
     "output_type": "stream",
     "text": [
      "Processing bcc000029.bmp:  15%|█▍        | 22/150 [00:00<00:01, 108.93 Samples/s]"
     ]
    },
    {
     "name": "stdout",
     "output_type": "stream",
     "text": [
      "Initialised with 41 image(s) found.\n",
      "Output directory set to /home/ayon/IsolatedTest_New/87."
     ]
    },
    {
     "name": "stderr",
     "output_type": "stream",
     "text": [
      "Processing bcc000023.bmp:  15%|█▍        | 22/150 [00:00<00:01, 123.38 Samples/s]"
     ]
    },
    {
     "name": "stdout",
     "output_type": "stream",
     "text": [
      "Initialised with 48 image(s) found.\n",
      "Output directory set to /home/ayon/IsolatedTest_New/88."
     ]
    },
    {
     "name": "stderr",
     "output_type": "stream",
     "text": [
      "Processing bcc000003.bmp:   5%|▌         | 16/300 [00:00<00:03, 89.28 Samples/s] "
     ]
    },
    {
     "name": "stdout",
     "output_type": "stream",
     "text": [
      "Initialised with 25 image(s) found.\n",
      "Output directory set to /home/ayon/IsolatedTest_New/89/1."
     ]
    },
    {
     "name": "stderr",
     "output_type": "stream",
     "text": [
      "Processing bcc000002.bmp:   6%|▌         | 18/300 [00:00<00:02, 108.45 Samples/s]"
     ]
    },
    {
     "name": "stdout",
     "output_type": "stream",
     "text": [
      "Initialised with 26 image(s) found.\n",
      "Output directory set to /home/ayon/IsolatedTest_New/89/2."
     ]
    },
    {
     "name": "stderr",
     "output_type": "stream",
     "text": [
      "Processing bcc000012.bmp:   8%|▊         | 23/300 [00:00<00:02, 127.51 Samples/s]"
     ]
    },
    {
     "name": "stdout",
     "output_type": "stream",
     "text": [
      "Initialised with 25 image(s) found.\n",
      "Output directory set to /home/ayon/IsolatedTest_New/9/1."
     ]
    },
    {
     "name": "stderr",
     "output_type": "stream",
     "text": [
      "Processing bcc000023.bmp:   6%|▌         | 18/300 [00:00<00:03, 89.54 Samples/s] "
     ]
    },
    {
     "name": "stdout",
     "output_type": "stream",
     "text": [
      "Initialised with 33 image(s) found.\n",
      "Output directory set to /home/ayon/IsolatedTest_New/9/2."
     ]
    },
    {
     "name": "stderr",
     "output_type": "stream",
     "text": [
      "Processing bcc000002.bmp:   6%|▌         | 17/300 [00:00<00:03, 85.32 Samples/s] "
     ]
    },
    {
     "name": "stdout",
     "output_type": "stream",
     "text": [
      "Initialised with 25 image(s) found.\n",
      "Output directory set to /home/ayon/IsolatedTest_New/90/1."
     ]
    },
    {
     "name": "stderr",
     "output_type": "stream",
     "text": [
      "Processing bcc000009.bmp:   5%|▌         | 15/300 [00:00<00:03, 87.65 Samples/s] "
     ]
    },
    {
     "name": "stdout",
     "output_type": "stream",
     "text": [
      "Initialised with 27 image(s) found.\n",
      "Output directory set to /home/ayon/IsolatedTest_New/90/2."
     ]
    },
    {
     "name": "stderr",
     "output_type": "stream",
     "text": [
      "Processing bcc000022.bmp:  14%|█▍        | 21/150 [00:00<00:01, 117.24 Samples/s]"
     ]
    },
    {
     "name": "stdout",
     "output_type": "stream",
     "text": [
      "Initialised with 50 image(s) found.\n",
      "Output directory set to /home/ayon/IsolatedTest_New/91."
     ]
    },
    {
     "name": "stderr",
     "output_type": "stream",
     "text": [
      "Processing bcc000036.bmp:  10%|█         | 15/150 [00:00<00:01, 78.86 Samples/s] "
     ]
    },
    {
     "name": "stdout",
     "output_type": "stream",
     "text": [
      "Initialised with 49 image(s) found.\n",
      "Output directory set to /home/ayon/IsolatedTest_New/92."
     ]
    },
    {
     "name": "stderr",
     "output_type": "stream",
     "text": [
      "Processing bcc000041.bmp:  11%|█▏        | 17/150 [00:00<00:01, 86.48 Samples/s] "
     ]
    },
    {
     "name": "stdout",
     "output_type": "stream",
     "text": [
      "Initialised with 47 image(s) found.\n",
      "Output directory set to /home/ayon/IsolatedTest_New/93."
     ]
    },
    {
     "name": "stderr",
     "output_type": "stream",
     "text": [
      "Processing bcc000022.bmp:   5%|▍         | 14/300 [00:00<00:03, 94.56 Samples/s] "
     ]
    },
    {
     "name": "stdout",
     "output_type": "stream",
     "text": [
      "Initialised with 27 image(s) found.\n",
      "Output directory set to /home/ayon/IsolatedTest_New/94/1."
     ]
    },
    {
     "name": "stderr",
     "output_type": "stream",
     "text": [
      "Processing bcc000002.bmp:   6%|▌         | 17/300 [00:00<00:03, 91.27 Samples/s] "
     ]
    },
    {
     "name": "stdout",
     "output_type": "stream",
     "text": [
      "Initialised with 25 image(s) found.\n",
      "Output directory set to /home/ayon/IsolatedTest_New/94/2."
     ]
    },
    {
     "name": "stderr",
     "output_type": "stream",
     "text": [
      "Processing bcc000021.bmp:  11%|█▏        | 17/150 [00:00<00:01, 89.68 Samples/s] "
     ]
    },
    {
     "name": "stdout",
     "output_type": "stream",
     "text": [
      "Initialised with 54 image(s) found.\n",
      "Output directory set to /home/ayon/IsolatedTest_New/95."
     ]
    },
    {
     "name": "stderr",
     "output_type": "stream",
     "text": [
      "Processing bcc000049.bmp:  13%|█▎        | 20/150 [00:00<00:01, 109.87 Samples/s]"
     ]
    },
    {
     "name": "stdout",
     "output_type": "stream",
     "text": [
      "Initialised with 52 image(s) found.\n",
      "Output directory set to /home/ayon/IsolatedTest_New/96."
     ]
    },
    {
     "name": "stderr",
     "output_type": "stream",
     "text": [
      "Processing bcc000010.bmp:   3%|▎         | 9/300 [00:00<00:05, 57.19 Samples/s]  "
     ]
    },
    {
     "name": "stdout",
     "output_type": "stream",
     "text": [
      "Initialised with 26 image(s) found.\n",
      "Output directory set to /home/ayon/IsolatedTest_New/97/1."
     ]
    },
    {
     "name": "stderr",
     "output_type": "stream",
     "text": [
      "Processing bcc000023.bmp:   6%|▌         | 18/300 [00:00<00:03, 93.66 Samples/s] "
     ]
    },
    {
     "name": "stdout",
     "output_type": "stream",
     "text": [
      "Initialised with 35 image(s) found.\n",
      "Output directory set to /home/ayon/IsolatedTest_New/97/2."
     ]
    },
    {
     "name": "stderr",
     "output_type": "stream",
     "text": [
      "Processing bcc000045.bmp:  17%|█▋        | 25/150 [00:00<00:00, 143.19 Samples/s]"
     ]
    },
    {
     "name": "stdout",
     "output_type": "stream",
     "text": [
      "Initialised with 49 image(s) found.\n",
      "Output directory set to /home/ayon/IsolatedTest_New/98."
     ]
    },
    {
     "name": "stderr",
     "output_type": "stream",
     "text": [
      "Processing bcc000041.bmp:  13%|█▎        | 19/150 [00:00<00:01, 105.87 Samples/s]"
     ]
    },
    {
     "name": "stdout",
     "output_type": "stream",
     "text": [
      "Initialised with 51 image(s) found.\n",
      "Output directory set to /home/ayon/IsolatedTest_New/99."
     ]
    },
    {
     "name": "stderr",
     "output_type": "stream",
     "text": [
      "                                                                                 \r"
     ]
    }
   ],
   "source": [
    "for img_path in sub_paths:\n",
    "    p = Augmentor.Pipeline(source_directory=img_path, output_directory=img_path, save_format=\"bmp\")\n",
    "    p.rotate(probability=0.8, max_left_rotation=10, max_right_rotation=10)\n",
    "    p.shear(probability=0.7, max_shear_left=5, max_shear_right=5)\n",
    "    if(len(img_path.split('/')) == (len(path.split('/'))+1)):\n",
    "        p.sample(params['one'])\n",
    "    else:\n",
    "        p.sample(params['two'])\n",
    "    c=0\n",
    "    while(c<1000000):\n",
    "        c+=1"
   ]
  }
 ],
 "metadata": {
  "kernelspec": {
   "display_name": "Python 3",
   "language": "python",
   "name": "python3"
  },
  "language_info": {
   "codemirror_mode": {
    "name": "ipython",
    "version": 3
   },
   "file_extension": ".py",
   "mimetype": "text/x-python",
   "name": "python",
   "nbconvert_exporter": "python",
   "pygments_lexer": "ipython3",
   "version": "3.6.3"
  }
 },
 "nbformat": 4,
 "nbformat_minor": 2
}
