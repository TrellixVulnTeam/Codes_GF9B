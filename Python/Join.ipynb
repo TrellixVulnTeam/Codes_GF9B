{
 "cells": [
  {
   "cell_type": "code",
   "execution_count": 1,
   "metadata": {},
   "outputs": [],
   "source": [
    "%matplotlib notebook\n",
    "import matplotlib.pyplot as plt\n",
    "import numpy as np\n",
    "import cv2\n",
    "import os\n",
    "#import magic\n",
    "import re"
   ]
  },
  {
   "cell_type": "code",
   "execution_count": null,
   "metadata": {},
   "outputs": [],
   "source": [
    "img_path = '/home/ayon/Pictures/imgwould.jpg'\n",
    "img1_path = '/home/ayon/Pictures/imgWill.jpg'\n",
    "img = cv2.imread(img_path, 0)\n",
    "img1 = cv2.imread(img1_path, 0)\n",
    "# img1 = cv2.resize(cv2.imread(img1_path, 0), img.shape, interpolation = cv2.INTER_AREA)\n",
    "#img.shape, img1.shape\n",
    "plt.show(plt.imshow(np.concatenate((img, img1), axis=1)))"
   ]
  },
  {
   "cell_type": "code",
   "execution_count": null,
   "metadata": {
    "scrolled": false
   },
   "outputs": [],
   "source": [
    "root = '/home/ayon/Database/printd'\n",
    "subpaths = [os.path.join(root, file) for root, dirs, files in os.walk(root) for file in files]\n",
    "for i  in len(subpaths)//5:\n",
    "    img = [cv2.imread(x,0) for x in subpaths[i*5:(i+1)*5]]\n",
    "    img = np.concatenate((img[0],img[1],img[2],img[3],img[4]), axis=1)\n",
    "    plt.show(plt.imshow(img, cmap='gray'))"
   ]
  },
  {
   "cell_type": "code",
   "execution_count": 4,
   "metadata": {},
   "outputs": [
    {
     "data": {
      "text/plain": [
       "True"
      ]
     },
     "execution_count": 4,
     "metadata": {},
     "output_type": "execute_result"
    }
   ],
   "source": [
    "path = '/home/ayon/Pictures/Pics/'\n",
    "cv2.imwrite(path +'*.png', np.ones((512,512))*255)"
   ]
  }
 ],
 "metadata": {
  "kernelspec": {
   "display_name": "Python 3",
   "language": "python",
   "name": "python3"
  },
  "language_info": {
   "codemirror_mode": {
    "name": "ipython",
    "version": 3
   },
   "file_extension": ".py",
   "mimetype": "text/x-python",
   "name": "python",
   "nbconvert_exporter": "python",
   "pygments_lexer": "ipython3",
   "version": "3.6.3"
  }
 },
 "nbformat": 4,
 "nbformat_minor": 2
}
