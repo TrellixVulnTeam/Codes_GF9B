{
 "cells": [
  {
   "cell_type": "code",
   "execution_count": 1,
   "metadata": {
    "collapsed": true
   },
   "outputs": [],
   "source": [
    "import numpy as np\n",
    "from PIL import Image\n",
    "from PIL import ImageOps as iop\n",
    "import cv2"
   ]
  },
  {
   "cell_type": "code",
   "execution_count": 2,
   "metadata": {
    "collapsed": true
   },
   "outputs": [],
   "source": [
    "import matplotlib.pyplot as plt\n",
    "%matplotlib inline"
   ]
  },
  {
   "cell_type": "code",
   "execution_count": 3,
   "metadata": {
    "collapsed": true
   },
   "outputs": [],
   "source": [
    "from IPython.core.interactiveshell import InteractiveShell\n",
    "InteractiveShell.ast_node_interactivity = \"all\""
   ]
  },
  {
   "cell_type": "code",
   "execution_count": 4,
   "metadata": {
    "collapsed": true
   },
   "outputs": [],
   "source": [
    "def gray(pic):\n",
    "    return pic.convert('L')"
   ]
  },
  {
   "cell_type": "markdown",
   "metadata": {},
   "source": [
    "### random paste"
   ]
  },
  {
   "cell_type": "code",
   "execution_count": 7,
   "metadata": {
    "collapsed": true
   },
   "outputs": [],
   "source": [
    "outp = 64, n=0"
   ]
  },
  {
   "cell_type": "code",
   "execution_count": 305,
   "metadata": {
    "collapsed": true
   },
   "outputs": [],
   "source": [
    "def get_transparent(path=None, pic=None):\n",
    "    if path is not None:\n",
    "        pic = Image.open(path)\n",
    "    pic = pic.convert('RGBA')\n",
    "    pic = np.array(pic)\n",
    "    for x in range(pic.shape[1]):\n",
    "        for y in range(pic.shape[0]):\n",
    "            if np.all(pic[y,x] == (127,127,127,255)):\n",
    "                pic[y,x] = (127,127,127,0)\n",
    "    pic = Image.fromarray(pic)\n",
    "    return pic"
   ]
  },
  {
   "cell_type": "code",
   "execution_count": 137,
   "metadata": {
    "collapsed": true
   },
   "outputs": [],
   "source": [
    "ka_home = '/home/ayon/Database/CMATERdb_basic/Train/183'\n",
    "pa_home = '/home/abhirup/Downloads/CMaterdb/BasicFinalDatabase/Train/203'"
   ]
  },
  {
   "cell_type": "code",
   "execution_count": 139,
   "metadata": {},
   "outputs": [],
   "source": [
    "ka_paths, pa_paths = os.listdir(ka_home), os.listdir(pa_home)"
   ]
  },
  {
   "cell_type": "code",
   "execution_count": 71,
   "metadata": {
    "collapsed": true
   },
   "outputs": [],
   "source": [
    "def new_bg():\n",
    "    return Image.fromarray(np.ones((outp,outp))*255)"
   ]
  },
  {
   "cell_type": "code",
   "execution_count": 58,
   "metadata": {
    "collapsed": true
   },
   "outputs": [],
   "source": [
    "x1,y1,x2,y2,w1,h1,w2,h2=[0]*8\n",
    "bg = Image.fromarray(np.ones((outp,outp))*255)"
   ]
  },
  {
   "cell_type": "code",
   "execution_count": 306,
   "metadata": {},
   "outputs": [
    {
     "data": {
      "text/plain": [
       "(4, 2, 31, 30)"
      ]
     },
     "execution_count": 306,
     "metadata": {},
     "output_type": "execute_result"
    },
    {
     "data": {
      "text/plain": [
       "(20, 22, 38, 35)"
      ]
     },
     "execution_count": 306,
     "metadata": {},
     "output_type": "execute_result"
    }
   ],
   "source": [
    "KA = ka_paths[np.random.randint(0,len(ka_paths))]\n",
    "PA = pa_paths[np.random.randint(0,len(pa_paths))]\n",
    "x1, y1 =  np.random.randint(0,5, 2) \n",
    "h1, w1 = np.random.randint(30, 37, size=2)\n",
    "im1 = get_transparent(path= os.path.join(ka_home, KA)).resize((h1,w1))\n",
    "im2 = 0\n",
    "\n",
    "x_marg = 32\n",
    "y_marg = 32\n",
    "\n",
    "bg = new_bg()\n",
    "bg_siz = np.array(np.array(bg).shape) - 3\n",
    "# while n<=2 :\n",
    "x2 = np.random.randint(int(x1 + w1/8), bg_siz[1] - x_marg)\n",
    "y2 = np.random.randint(int(y1 + h1/8), bg_siz[0] - y_marg)\n",
    "w2 = bg_siz[1]-np.random.randint(0,5)-x2\n",
    "h2 = bg_siz[0]-np.random.randint(0,5)-y2\n",
    "im2 = get_transparent(path= os.path.join(pa_home,PA)).resize((h2,w2))\n",
    "\n",
    "bg.paste(im1, (x1,y1), im1)\n",
    "bg.paste(im2, (x2,y2), im2)\n",
    "bg = bg.convert('RGB')\n",
    "bg.save('/home/abhirup/Desktop/new.png')\n",
    "# bg.load()\n",
    "# bg.show()\n",
    "x1,y1,w1,h1\n",
    "x2,y2,w2,h2"
   ]
  },
  {
   "cell_type": "code",
   "execution_count": 270,
   "metadata": {
    "scrolled": false
   },
   "outputs": [
    {
     "data": {
      "image/png": "[encoded data removed]",
      "text/plain": [
       "<PIL.Image.Image image mode=RGBA size=34x30 at 0x7F5B9F13E1D0>"
      ]
     },
     "execution_count": 270,
     "metadata": {},
     "output_type": "execute_result"
    },
    {
     "data": {
      "image/png": "[encoded data removed]",
      "text/plain": [
       "<PIL.Image.Image image mode=RGBA size=43x24 at 0x7F5B9F14C710>"
      ]
     },
     "execution_count": 270,
     "metadata": {},
     "output_type": "execute_result"
    }
   ],
   "source": [
    "im1\n",
    "im2"
   ]
  },
  {
   "cell_type": "code",
   "execution_count": 265,
   "metadata": {},
   "outputs": [
    {
     "data": {
      "text/plain": [
       "array([64, 64])"
      ]
     },
     "execution_count": 265,
     "metadata": {},
     "output_type": "execute_result"
    }
   ],
   "source": [
    "np.array(np.array(bg).shape)"
   ]
  },
  {
   "cell_type": "code",
   "execution_count": 308,
   "metadata": {},
   "outputs": [],
   "source": [
    "get_transparent(pic=bg).save('/home/abhirup/Desktop/bg.png')"
   ]
  }
 ],
 "metadata": {
  "kernelspec": {
   "display_name": "Python 3",
   "language": "python",
   "name": "python3"
  },
  "language_info": {
   "codemirror_mode": {
    "name": "ipython",
    "version": 3
   },
   "file_extension": ".py",
   "mimetype": "text/x-python",
   "name": "python",
   "nbconvert_exporter": "python",
   "pygments_lexer": "ipython3",
   "version": "3.6.3"
  }
 },
 "nbformat": 4,
 "nbformat_minor": 2
}
